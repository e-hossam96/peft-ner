{
 "cells": [
  {
   "cell_type": "markdown",
   "id": "88a2bbd2-1343-467d-8828-1df121945981",
   "metadata": {
    "id": "88a2bbd2-1343-467d-8828-1df121945981"
   },
   "source": [
    "# NER with PEFT"
   ]
  },
  {
   "cell_type": "markdown",
   "id": "896e349e-0811-4230-b16b-0127294b0a55",
   "metadata": {
    "id": "896e349e-0811-4230-b16b-0127294b0a55"
   },
   "source": [
    "In this notebook we will perform PEFT for a token classification task on the CoNLLpp dataset."
   ]
  },
  {
   "cell_type": "code",
   "execution_count": 1,
   "id": "3563207a-ffaf-4d7f-819a-916757db3f27",
   "metadata": {
    "id": "3563207a-ffaf-4d7f-819a-916757db3f27"
   },
   "outputs": [],
   "source": [
    "import json\n",
    "import wandb\n",
    "import torch\n",
    "import random\n",
    "import numpy as np\n",
    "import pandas as pd"
   ]
  },
  {
   "cell_type": "code",
   "execution_count": 2,
   "id": "b7bb2564-7e34-4fc1-a403-83b389c364c1",
   "metadata": {
    "id": "b7bb2564-7e34-4fc1-a403-83b389c364c1"
   },
   "outputs": [],
   "source": [
    "import seqeval\n",
    "import evaluate\n",
    "from datasets import load_dataset, Dataset\n",
    "\n",
    "import transformers\n",
    "from transformers import pipeline\n",
    "from transformers import AutoTokenizer\n",
    "from transformers import AutoModelForTokenClassification\n",
    "from transformers import DataCollatorForTokenClassification\n",
    "from transformers import TrainingArguments, Trainer\n",
    "\n",
    "import seaborn as sns\n",
    "import matplotlib.pyplot as plt\n",
    "from sklearn.metrics import confusion_matrix, ConfusionMatrixDisplay"
   ]
  },
  {
   "cell_type": "code",
   "execution_count": 3,
   "id": "ff1a0d59-dbd8-47a3-b57d-24357afe06fa",
   "metadata": {
    "id": "ff1a0d59-dbd8-47a3-b57d-24357afe06fa"
   },
   "outputs": [],
   "source": [
    "sns.set_theme(\"notebook\")\n",
    "sns.set_style(\"dark\")"
   ]
  },
  {
   "cell_type": "code",
   "execution_count": 4,
   "id": "9babee2a-a20e-41b9-be67-1b674ffc01ce",
   "metadata": {
    "id": "9babee2a-a20e-41b9-be67-1b674ffc01ce"
   },
   "outputs": [],
   "source": [
    "# fix random seed\n",
    "seed = 42\n",
    "random.seed(seed)\n",
    "np.random.seed(seed)\n",
    "torch.manual_seed(seed)\n",
    "torch.cuda.manual_seed(seed)\n",
    "transformers.set_seed(seed)"
   ]
  },
  {
   "cell_type": "code",
   "execution_count": 5,
   "id": "a1e51b12-5eec-43af-8d5f-f2dbcd1a9e18",
   "metadata": {
    "id": "a1e51b12-5eec-43af-8d5f-f2dbcd1a9e18"
   },
   "outputs": [],
   "source": [
    "project_name = \"PEFT-NER\"\n",
    "access_tokens_path = \"./data/access_tokens.json\"\n",
    "model_ckpt = \"distilroberta-base\"\n",
    "data_ckpt = \"conllpp\"\n",
    "\n",
    "model_name = f\"{model_ckpt}-finetuned-{data_ckpt}-adapters\"\n",
    "model_path = f\"./models/{model_name}\""
   ]
  },
  {
   "cell_type": "code",
   "execution_count": 6,
   "id": "1d0a4de9-4555-4a2d-ba43-7728d2bc35ba",
   "metadata": {
    "colab": {
     "base_uri": "https://localhost:8080/"
    },
    "id": "1d0a4de9-4555-4a2d-ba43-7728d2bc35ba",
    "outputId": "b39370e5-ce8a-441c-805f-f0aaff33cea2"
   },
   "outputs": [],
   "source": [
    "raw_datasets = load_dataset(\"conllpp\")"
   ]
  },
  {
   "cell_type": "code",
   "execution_count": 7,
   "id": "697f1847-82af-416d-ad70-976ac62bf57c",
   "metadata": {
    "colab": {
     "base_uri": "https://localhost:8080/"
    },
    "id": "697f1847-82af-416d-ad70-976ac62bf57c",
    "outputId": "18c143a7-e0a0-48c1-f606-2c085897f521"
   },
   "outputs": [
    {
     "data": {
      "text/plain": [
       "DatasetDict({\n",
       "    train: Dataset({\n",
       "        features: ['id', 'tokens', 'pos_tags', 'chunk_tags', 'ner_tags'],\n",
       "        num_rows: 14041\n",
       "    })\n",
       "    validation: Dataset({\n",
       "        features: ['id', 'tokens', 'pos_tags', 'chunk_tags', 'ner_tags'],\n",
       "        num_rows: 3250\n",
       "    })\n",
       "    test: Dataset({\n",
       "        features: ['id', 'tokens', 'pos_tags', 'chunk_tags', 'ner_tags'],\n",
       "        num_rows: 3453\n",
       "    })\n",
       "})"
      ]
     },
     "execution_count": 7,
     "metadata": {},
     "output_type": "execute_result"
    }
   ],
   "source": [
    "raw_datasets"
   ]
  },
  {
   "cell_type": "code",
   "execution_count": 8,
   "id": "8e1473fa-a288-42c6-9e17-f1124b2bab38",
   "metadata": {
    "id": "8e1473fa-a288-42c6-9e17-f1124b2bab38"
   },
   "outputs": [],
   "source": [
    "cols_to_remove = [\"id\", \"pos_tags\", \"chunk_tags\"]  # used for conll datasets"
   ]
  },
  {
   "cell_type": "code",
   "execution_count": 9,
   "id": "8f1b5aa5-ca21-472f-8d9c-7e40c0bc4890",
   "metadata": {
    "id": "8f1b5aa5-ca21-472f-8d9c-7e40c0bc4890"
   },
   "outputs": [],
   "source": [
    "raw_datasets = raw_datasets.remove_columns(cols_to_remove)"
   ]
  },
  {
   "cell_type": "code",
   "execution_count": 10,
   "id": "5b8a9ea5-bb3c-4bb1-b8bd-d0db807ea5c7",
   "metadata": {
    "colab": {
     "base_uri": "https://localhost:8080/"
    },
    "id": "5b8a9ea5-bb3c-4bb1-b8bd-d0db807ea5c7",
    "outputId": "d495a7ea-583e-4346-e213-77d9b5ade2d5"
   },
   "outputs": [
    {
     "data": {
      "text/plain": [
       "DatasetDict({\n",
       "    train: Dataset({\n",
       "        features: ['tokens', 'ner_tags'],\n",
       "        num_rows: 14041\n",
       "    })\n",
       "    validation: Dataset({\n",
       "        features: ['tokens', 'ner_tags'],\n",
       "        num_rows: 3250\n",
       "    })\n",
       "    test: Dataset({\n",
       "        features: ['tokens', 'ner_tags'],\n",
       "        num_rows: 3453\n",
       "    })\n",
       "})"
      ]
     },
     "execution_count": 10,
     "metadata": {},
     "output_type": "execute_result"
    }
   ],
   "source": [
    "raw_datasets"
   ]
  },
  {
   "cell_type": "code",
   "execution_count": 11,
   "id": "384fcfbe-5c59-46a3-ac36-5634775d286d",
   "metadata": {
    "colab": {
     "base_uri": "https://localhost:8080/"
    },
    "id": "384fcfbe-5c59-46a3-ac36-5634775d286d",
    "outputId": "18e45754-b710-49ce-d5f1-1301b25356a3"
   },
   "outputs": [
    {
     "data": {
      "text/plain": [
       "['O', 'B-PER', 'I-PER', 'B-ORG', 'I-ORG', 'B-LOC', 'I-LOC', 'B-MISC', 'I-MISC']"
      ]
     },
     "execution_count": 11,
     "metadata": {},
     "output_type": "execute_result"
    }
   ],
   "source": [
    "label_names = raw_datasets[\"train\"].features[\"ner_tags\"].feature.names\n",
    "label_names"
   ]
  },
  {
   "cell_type": "code",
   "execution_count": 12,
   "id": "f35fe97d-ffcf-4b3e-b342-f1b9155f160c",
   "metadata": {
    "id": "f35fe97d-ffcf-4b3e-b342-f1b9155f160c"
   },
   "outputs": [
    {
     "data": {
      "application/vnd.jupyter.widget-view+json": {
       "model_id": "3199f3d52ea04f45b639741fb44844e6",
       "version_major": 2,
       "version_minor": 0
      },
      "text/plain": [
       "config.json:   0%|          | 0.00/480 [00:00<?, ?B/s]"
      ]
     },
     "metadata": {},
     "output_type": "display_data"
    },
    {
     "data": {
      "application/vnd.jupyter.widget-view+json": {
       "model_id": "ff7e482fd3aa438cb8bf4e63adf67b36",
       "version_major": 2,
       "version_minor": 0
      },
      "text/plain": [
       "vocab.json:   0%|          | 0.00/899k [00:00<?, ?B/s]"
      ]
     },
     "metadata": {},
     "output_type": "display_data"
    },
    {
     "data": {
      "application/vnd.jupyter.widget-view+json": {
       "model_id": "9e3a90967645416faed1ccc74af4afbc",
       "version_major": 2,
       "version_minor": 0
      },
      "text/plain": [
       "merges.txt:   0%|          | 0.00/456k [00:00<?, ?B/s]"
      ]
     },
     "metadata": {},
     "output_type": "display_data"
    },
    {
     "data": {
      "application/vnd.jupyter.widget-view+json": {
       "model_id": "b9384620b7bd4bbfbe1a800a22a07ef2",
       "version_major": 2,
       "version_minor": 0
      },
      "text/plain": [
       "tokenizer.json:   0%|          | 0.00/1.36M [00:00<?, ?B/s]"
      ]
     },
     "metadata": {},
     "output_type": "display_data"
    }
   ],
   "source": [
    "tokenizer = AutoTokenizer.from_pretrained(model_ckpt, add_prefix_space=True)"
   ]
  },
  {
   "cell_type": "code",
   "execution_count": 13,
   "id": "aa90eca1-3c9a-4350-b355-d8626bbf8a4d",
   "metadata": {
    "id": "aa90eca1-3c9a-4350-b355-d8626bbf8a4d"
   },
   "outputs": [],
   "source": [
    "def align_labels_to_tokens(labels, word_ids):\n",
    "    new_labels = []\n",
    "    current_word = None\n",
    "    for word_id in word_ids:\n",
    "        if word_id != current_word:\n",
    "            current_word = word_id\n",
    "            label = -100 if word_id is None else labels[word_id]\n",
    "            new_labels.append(label)\n",
    "        elif word_id is None:\n",
    "            new_labels.append(-100)\n",
    "        else:\n",
    "            label = labels[word_id]\n",
    "            if label % 2 == 1:\n",
    "                label += 1\n",
    "            new_labels.append(label)\n",
    "    return new_labels"
   ]
  },
  {
   "cell_type": "code",
   "execution_count": 14,
   "id": "19129a95-15d6-4886-acfb-abf1a3de7076",
   "metadata": {
    "id": "19129a95-15d6-4886-acfb-abf1a3de7076"
   },
   "outputs": [],
   "source": [
    "def tokenize_and_align_labels(batch):\n",
    "    tokenized_inputs = tokenizer(\n",
    "        batch[\"tokens\"], is_split_into_words=True, truncation=True\n",
    "    )\n",
    "\n",
    "    new_labels = []\n",
    "    all_labels = batch[\"ner_tags\"]\n",
    "    for i, labels in enumerate(all_labels):\n",
    "        new_labels.append(align_labels_to_tokens(labels, tokenized_inputs.word_ids(i)))\n",
    "\n",
    "    tokenized_inputs[\"labels\"] = new_labels\n",
    "    return tokenized_inputs"
   ]
  },
  {
   "cell_type": "code",
   "execution_count": 15,
   "id": "54e26acc-39e6-4272-b062-318fbcc990dd",
   "metadata": {
    "id": "54e26acc-39e6-4272-b062-318fbcc990dd"
   },
   "outputs": [
    {
     "data": {
      "application/vnd.jupyter.widget-view+json": {
       "model_id": "6c38f72e681b4325b067f7c68a4a354e",
       "version_major": 2,
       "version_minor": 0
      },
      "text/plain": [
       "Map:   0%|          | 0/14041 [00:00<?, ? examples/s]"
      ]
     },
     "metadata": {},
     "output_type": "display_data"
    },
    {
     "data": {
      "application/vnd.jupyter.widget-view+json": {
       "model_id": "bf756e025fc44bab901c122fa734ef28",
       "version_major": 2,
       "version_minor": 0
      },
      "text/plain": [
       "Map:   0%|          | 0/3250 [00:00<?, ? examples/s]"
      ]
     },
     "metadata": {},
     "output_type": "display_data"
    },
    {
     "data": {
      "application/vnd.jupyter.widget-view+json": {
       "model_id": "08c8d66dffee45fdbd0e162bc5ecd748",
       "version_major": 2,
       "version_minor": 0
      },
      "text/plain": [
       "Map:   0%|          | 0/3453 [00:00<?, ? examples/s]"
      ]
     },
     "metadata": {},
     "output_type": "display_data"
    }
   ],
   "source": [
    "tokenized_datasets = raw_datasets.map(\n",
    "    tokenize_and_align_labels,\n",
    "    batched=True,\n",
    "    remove_columns=raw_datasets[\"train\"].column_names,\n",
    ")"
   ]
  },
  {
   "cell_type": "code",
   "execution_count": 16,
   "id": "9406306c-d94a-4d3c-a49e-5ae4b750f8aa",
   "metadata": {
    "id": "9406306c-d94a-4d3c-a49e-5ae4b750f8aa"
   },
   "outputs": [],
   "source": [
    "metric = evaluate.load(\"seqeval\")"
   ]
  },
  {
   "cell_type": "code",
   "execution_count": 17,
   "id": "94b6e199-57ce-4d06-ad43-9a46224c59ac",
   "metadata": {
    "id": "94b6e199-57ce-4d06-ad43-9a46224c59ac"
   },
   "outputs": [],
   "source": [
    "def compute_metrics(eval_preds):\n",
    "    logits, labels = eval_preds\n",
    "    preds = np.argmax(logits, axis=-1)\n",
    "\n",
    "    clean_labels = [[label_names[l] for l in ls if l != -100] for ls in labels]\n",
    "    clean_preds = [\n",
    "        [label_names[p] for (p, l) in zip(ps, ls) if l != -100]\n",
    "        for (ps, ls) in zip(preds, labels)\n",
    "    ]\n",
    "\n",
    "    metrics = metric.compute(predictions=clean_preds, references=clean_labels)\n",
    "    overall_metrics = {\n",
    "        \"accuracy\": metrics[\"overall_accuracy\"],\n",
    "        \"precision\": metrics[\"overall_precision\"],\n",
    "        \"recall\": metrics[\"overall_recall\"],\n",
    "        \"f1\": metrics[\"overall_f1\"],\n",
    "    }\n",
    "    return overall_metrics"
   ]
  },
  {
   "cell_type": "code",
   "execution_count": 18,
   "id": "7bce1ab4-5d7e-46dc-810e-ec3197a4576f",
   "metadata": {
    "id": "7bce1ab4-5d7e-46dc-810e-ec3197a4576f"
   },
   "outputs": [],
   "source": [
    "id2label = {i: label for i, label in enumerate(label_names)}\n",
    "label2id = {v: k for k, v in id2label.items()}"
   ]
  },
  {
   "cell_type": "code",
   "execution_count": 19,
   "id": "EN8cyjcl8CkH",
   "metadata": {
    "id": "EN8cyjcl8CkH"
   },
   "outputs": [],
   "source": [
    "from adapters import AutoAdapterModel, init, AdapterConfig"
   ]
  },
  {
   "cell_type": "code",
   "execution_count": 20,
   "id": "03406cf0-d846-45a2-a8a3-91a2d92c0912",
   "metadata": {
    "id": "03406cf0-d846-45a2-a8a3-91a2d92c0912"
   },
   "outputs": [
    {
     "data": {
      "application/vnd.jupyter.widget-view+json": {
       "model_id": "2ae205545cf74ab8b7785155dd8a1612",
       "version_major": 2,
       "version_minor": 0
      },
      "text/plain": [
       "model.safetensors:   0%|          | 0.00/331M [00:00<?, ?B/s]"
      ]
     },
     "metadata": {},
     "output_type": "display_data"
    },
    {
     "name": "stderr",
     "output_type": "stream",
     "text": [
      "Some weights of RobertaAdapterModel were not initialized from the model checkpoint at distilroberta-base and are newly initialized: ['heads.default.3.bias']\n",
      "You should probably TRAIN this model on a down-stream task to be able to use it for predictions and inference.\n"
     ]
    }
   ],
   "source": [
    "model = AutoAdapterModel.from_pretrained(\n",
    "    model_ckpt,\n",
    ")"
   ]
  },
  {
   "cell_type": "code",
   "execution_count": 21,
   "id": "FBPbhcCb88nE",
   "metadata": {
    "colab": {
     "base_uri": "https://localhost:8080/"
    },
    "id": "FBPbhcCb88nE",
    "outputId": "36a9c421-13d5-4017-93b1-a64eb70f19cd"
   },
   "outputs": [
    {
     "name": "stdout",
     "output_type": "stream",
     "text": [
      "================================================================================\n",
      "Name                     Architecture         #Param      %Param  Active   Train\n",
      "--------------------------------------------------------------------------------\n",
      "--------------------------------------------------------------------------------\n",
      "Full model                                82,118,400     100.000               1\n",
      "================================================================================\n"
     ]
    }
   ],
   "source": [
    "print(model.adapter_summary())"
   ]
  },
  {
   "cell_type": "code",
   "execution_count": 22,
   "id": "v58592gxAWwP",
   "metadata": {
    "id": "v58592gxAWwP"
   },
   "outputs": [],
   "source": [
    "adapter_config = AdapterConfig.load(\"lora\", r=8, alpha=32)"
   ]
  },
  {
   "cell_type": "code",
   "execution_count": 23,
   "id": "8K6K3zdSAnGB",
   "metadata": {
    "id": "8K6K3zdSAnGB"
   },
   "outputs": [],
   "source": [
    "model.add_adapter(\"conllpp_lora\", config=adapter_config)"
   ]
  },
  {
   "cell_type": "code",
   "execution_count": 24,
   "id": "BKMgQ9zBBFSs",
   "metadata": {
    "colab": {
     "base_uri": "https://localhost:8080/"
    },
    "id": "BKMgQ9zBBFSs",
    "outputId": "869b1af0-1713-4450-d09b-2ae755ec224a"
   },
   "outputs": [
    {
     "name": "stdout",
     "output_type": "stream",
     "text": [
      "================================================================================\n",
      "Name                     Architecture         #Param      %Param  Active   Train\n",
      "--------------------------------------------------------------------------------\n",
      "conllpp_lora             lora                147,456       0.180       0       1\n",
      "--------------------------------------------------------------------------------\n",
      "Full model                                82,118,400     100.000               1\n",
      "================================================================================\n"
     ]
    }
   ],
   "source": [
    "print(model.adapter_summary())"
   ]
  },
  {
   "cell_type": "code",
   "execution_count": 25,
   "id": "XypUR8Fh_rO-",
   "metadata": {
    "id": "XypUR8Fh_rO-"
   },
   "outputs": [],
   "source": [
    "model.add_tagging_head(\"conllpp_head\", num_labels=len(label_names), id2label=id2label)"
   ]
  },
  {
   "cell_type": "code",
   "execution_count": 26,
   "id": "HbGxjgykAEH2",
   "metadata": {
    "colab": {
     "base_uri": "https://localhost:8080/"
    },
    "id": "HbGxjgykAEH2",
    "outputId": "2c975d72-b4e4-49bb-ebb2-58dbd3b9e99b"
   },
   "outputs": [
    {
     "name": "stdout",
     "output_type": "stream",
     "text": [
      "================================================================================\n",
      "Name                     Architecture         #Param      %Param  Active   Train\n",
      "--------------------------------------------------------------------------------\n",
      "conllpp_lora             lora                147,456       0.180       0       1\n",
      "--------------------------------------------------------------------------------\n",
      "Full model                                82,118,400     100.000               1\n",
      "================================================================================\n"
     ]
    }
   ],
   "source": [
    "print(model.adapter_summary())"
   ]
  },
  {
   "cell_type": "code",
   "execution_count": 27,
   "id": "CS4y0EdYAHlr",
   "metadata": {
    "id": "CS4y0EdYAHlr"
   },
   "outputs": [],
   "source": [
    "model.set_active_adapters([\"conllpp_lora\"])"
   ]
  },
  {
   "cell_type": "code",
   "execution_count": 28,
   "id": "iPy0FiG-HldA",
   "metadata": {
    "id": "iPy0FiG-HldA"
   },
   "outputs": [],
   "source": [
    "model.train_adapter([\"conllpp_lora\"])"
   ]
  },
  {
   "cell_type": "code",
   "execution_count": 29,
   "id": "rJIMPNb1D0y5",
   "metadata": {
    "colab": {
     "base_uri": "https://localhost:8080/"
    },
    "id": "rJIMPNb1D0y5",
    "outputId": "7aa420d4-3d69-482d-f0b0-e645fca21e1b"
   },
   "outputs": [
    {
     "name": "stdout",
     "output_type": "stream",
     "text": [
      "================================================================================\n",
      "Name                     Architecture         #Param      %Param  Active   Train\n",
      "--------------------------------------------------------------------------------\n",
      "conllpp_lora             lora                147,456       0.180       1       1\n",
      "--------------------------------------------------------------------------------\n",
      "Full model                                82,118,400     100.000               0\n",
      "================================================================================\n"
     ]
    }
   ],
   "source": [
    "print(model.adapter_summary())"
   ]
  },
  {
   "cell_type": "code",
   "execution_count": 30,
   "id": "kt3RyYs6Bq8o",
   "metadata": {
    "colab": {
     "base_uri": "https://localhost:8080/"
    },
    "id": "kt3RyYs6Bq8o",
    "outputId": "e710a683-69a4-43e8-86c7-f6df5ab24ac3"
   },
   "outputs": [
    {
     "name": "stdout",
     "output_type": "stream",
     "text": [
      "{0: 'O', 1: 'B-PER', 2: 'I-PER', 3: 'B-ORG', 4: 'I-ORG', 5: 'B-LOC', 6: 'I-LOC', 7: 'B-MISC', 8: 'I-MISC'}\n"
     ]
    }
   ],
   "source": [
    "print(model.get_labels_dict())"
   ]
  },
  {
   "cell_type": "code",
   "execution_count": 31,
   "id": "7bfb31d0-cab6-4410-a389-6670e966f59d",
   "metadata": {
    "colab": {
     "base_uri": "https://localhost:8080/"
    },
    "id": "7bfb31d0-cab6-4410-a389-6670e966f59d",
    "outputId": "1ff9fd7c-406d-461a-dac9-ef989f5268b1"
   },
   "outputs": [
    {
     "name": "stderr",
     "output_type": "stream",
     "text": [
      "huggingface/tokenizers: The current process just got forked, after parallelism has already been used. Disabling parallelism to avoid deadlocks...\n",
      "To disable this warning, you can either:\n",
      "\t- Avoid using `tokenizers` before the fork if possible\n",
      "\t- Explicitly set the environment variable TOKENIZERS_PARALLELISM=(true | false)\n",
      "\u001b[34m\u001b[1mwandb\u001b[0m: Currently logged in as: \u001b[33me_hossam96\u001b[0m. Use \u001b[1m`wandb login --relogin`\u001b[0m to force relogin\n",
      "\u001b[34m\u001b[1mwandb\u001b[0m: \u001b[33mWARNING\u001b[0m If you're specifying your api key in code, ensure this code is not shared publicly.\n",
      "\u001b[34m\u001b[1mwandb\u001b[0m: \u001b[33mWARNING\u001b[0m Consider setting the WANDB_API_KEY environment variable, or running `wandb login` from the command line.\n",
      "\u001b[34m\u001b[1mwandb\u001b[0m: Appending key for api.wandb.ai to your netrc file: /root/.netrc\n"
     ]
    },
    {
     "data": {
      "text/plain": [
       "True"
      ]
     },
     "execution_count": 31,
     "metadata": {},
     "output_type": "execute_result"
    }
   ],
   "source": [
    "with open(access_tokens_path) as f:\n",
    "    login_key = json.load(f)[\"wandb\"][\"login\"]\n",
    "\n",
    "wandb.login(key=login_key)"
   ]
  },
  {
   "cell_type": "code",
   "execution_count": 32,
   "id": "4c3a6473-45ad-4dc1-83c8-12ef4bce50da",
   "metadata": {
    "colab": {
     "base_uri": "https://localhost:8080/",
     "height": 125
    },
    "id": "4c3a6473-45ad-4dc1-83c8-12ef4bce50da",
    "outputId": "d7987180-0ef7-49c6-82b4-a48e6f256fea"
   },
   "outputs": [
    {
     "name": "stderr",
     "output_type": "stream",
     "text": [
      "huggingface/tokenizers: The current process just got forked, after parallelism has already been used. Disabling parallelism to avoid deadlocks...\n",
      "To disable this warning, you can either:\n",
      "\t- Avoid using `tokenizers` before the fork if possible\n",
      "\t- Explicitly set the environment variable TOKENIZERS_PARALLELISM=(true | false)\n",
      "huggingface/tokenizers: The current process just got forked, after parallelism has already been used. Disabling parallelism to avoid deadlocks...\n",
      "To disable this warning, you can either:\n",
      "\t- Avoid using `tokenizers` before the fork if possible\n",
      "\t- Explicitly set the environment variable TOKENIZERS_PARALLELISM=(true | false)\n"
     ]
    },
    {
     "data": {
      "text/html": [
       "Tracking run with wandb version 0.16.2"
      ],
      "text/plain": [
       "<IPython.core.display.HTML object>"
      ]
     },
     "metadata": {},
     "output_type": "display_data"
    },
    {
     "data": {
      "text/html": [
       "Run data is saved locally in <code>/notebooks/wandb/run-20240116_132317-m6volhhs</code>"
      ],
      "text/plain": [
       "<IPython.core.display.HTML object>"
      ]
     },
     "metadata": {},
     "output_type": "display_data"
    },
    {
     "data": {
      "text/html": [
       "Syncing run <strong><a href='https://wandb.ai/e_hossam96/PEFT-NER/runs/m6volhhs' target=\"_blank\">distilroberta-base-finetuned-conllpp-adapters</a></strong> to <a href='https://wandb.ai/e_hossam96/PEFT-NER' target=\"_blank\">Weights & Biases</a> (<a href='https://wandb.me/run' target=\"_blank\">docs</a>)<br/>"
      ],
      "text/plain": [
       "<IPython.core.display.HTML object>"
      ]
     },
     "metadata": {},
     "output_type": "display_data"
    },
    {
     "data": {
      "text/html": [
       " View project at <a href='https://wandb.ai/e_hossam96/PEFT-NER' target=\"_blank\">https://wandb.ai/e_hossam96/PEFT-NER</a>"
      ],
      "text/plain": [
       "<IPython.core.display.HTML object>"
      ]
     },
     "metadata": {},
     "output_type": "display_data"
    },
    {
     "data": {
      "text/html": [
       " View run at <a href='https://wandb.ai/e_hossam96/PEFT-NER/runs/m6volhhs' target=\"_blank\">https://wandb.ai/e_hossam96/PEFT-NER/runs/m6volhhs</a>"
      ],
      "text/plain": [
       "<IPython.core.display.HTML object>"
      ]
     },
     "metadata": {},
     "output_type": "display_data"
    },
    {
     "data": {
      "text/html": [
       "<button onClick=\"this.nextSibling.style.display='block';this.style.display='none';\">Display W&B run</button><iframe src='https://wandb.ai/e_hossam96/PEFT-NER/runs/m6volhhs?jupyter=true' style='border:none;width:100%;height:420px;display:none;'></iframe>"
      ],
      "text/plain": [
       "<wandb.sdk.wandb_run.Run at 0x7f99762e71f0>"
      ]
     },
     "execution_count": 32,
     "metadata": {},
     "output_type": "execute_result"
    }
   ],
   "source": [
    "wandb.init(project=project_name, name=model_name)"
   ]
  },
  {
   "cell_type": "code",
   "execution_count": 33,
   "id": "2aa65c4d-652c-4c94-bf92-1b976327a0de",
   "metadata": {
    "id": "2aa65c4d-652c-4c94-bf92-1b976327a0de"
   },
   "outputs": [],
   "source": [
    "args = TrainingArguments(\n",
    "    model_path,\n",
    "    overwrite_output_dir=True,\n",
    "    num_train_epochs=5,\n",
    "    load_best_model_at_end=True,\n",
    "    evaluation_strategy=\"epoch\",\n",
    "    save_strategy=\"epoch\",\n",
    "    report_to=\"wandb\",\n",
    "    seed=seed,\n",
    "    data_seed=seed,\n",
    "    per_device_train_batch_size=4,\n",
    "    per_device_eval_batch_size=4,\n",
    "    learning_rate=1e-4,\n",
    "    weight_decay=1e-3,\n",
    "    warmup_ratio=0.05,\n",
    ")"
   ]
  },
  {
   "cell_type": "code",
   "execution_count": 34,
   "id": "92a14c27-26c6-425a-86c0-828abd49ef6b",
   "metadata": {
    "id": "92a14c27-26c6-425a-86c0-828abd49ef6b"
   },
   "outputs": [],
   "source": [
    "data_collator = DataCollatorForTokenClassification(tokenizer=tokenizer)"
   ]
  },
  {
   "cell_type": "code",
   "execution_count": 35,
   "id": "07e2e230-8b2f-4f17-b302-eaf612772d7b",
   "metadata": {
    "id": "07e2e230-8b2f-4f17-b302-eaf612772d7b"
   },
   "outputs": [],
   "source": [
    "from adapters import AdapterTrainer\n",
    "\n",
    "trainer = AdapterTrainer(\n",
    "    model=model,\n",
    "    args=args,\n",
    "    train_dataset=tokenized_datasets[\"train\"],\n",
    "    eval_dataset=tokenized_datasets[\"validation\"],\n",
    "    data_collator=data_collator,\n",
    "    compute_metrics=compute_metrics,\n",
    "    tokenizer=tokenizer,\n",
    ")"
   ]
  },
  {
   "cell_type": "code",
   "execution_count": 36,
   "id": "a5918703-b0a1-4a91-8445-54fa4ceeb57c",
   "metadata": {
    "colab": {
     "base_uri": "https://localhost:8080/",
     "height": 196
    },
    "id": "a5918703-b0a1-4a91-8445-54fa4ceeb57c",
    "outputId": "cfaf5000-4a3b-484b-b69c-c4ed77747128"
   },
   "outputs": [
    {
     "name": "stderr",
     "output_type": "stream",
     "text": [
      "You're using a RobertaTokenizerFast tokenizer. Please note that with a fast tokenizer, using the `__call__` method is faster than using a method to encode the text followed by a call to the `pad` method to get a padded encoding.\n"
     ]
    },
    {
     "data": {
      "text/html": [
       "\n",
       "    <div>\n",
       "      \n",
       "      <progress value='17555' max='17555' style='width:300px; height:20px; vertical-align: middle;'></progress>\n",
       "      [17555/17555 11:49, Epoch 5/5]\n",
       "    </div>\n",
       "    <table border=\"1\" class=\"dataframe\">\n",
       "  <thead>\n",
       " <tr style=\"text-align: left;\">\n",
       "      <th>Epoch</th>\n",
       "      <th>Training Loss</th>\n",
       "      <th>Validation Loss</th>\n",
       "      <th>Accuracy</th>\n",
       "      <th>Precision</th>\n",
       "      <th>Recall</th>\n",
       "      <th>F1</th>\n",
       "    </tr>\n",
       "  </thead>\n",
       "  <tbody>\n",
       "    <tr>\n",
       "      <td>1</td>\n",
       "      <td>0.138100</td>\n",
       "      <td>0.120514</td>\n",
       "      <td>0.969731</td>\n",
       "      <td>0.822145</td>\n",
       "      <td>0.875968</td>\n",
       "      <td>0.848203</td>\n",
       "    </tr>\n",
       "    <tr>\n",
       "      <td>2</td>\n",
       "      <td>0.109800</td>\n",
       "      <td>0.099069</td>\n",
       "      <td>0.975591</td>\n",
       "      <td>0.862729</td>\n",
       "      <td>0.902221</td>\n",
       "      <td>0.882034</td>\n",
       "    </tr>\n",
       "    <tr>\n",
       "      <td>3</td>\n",
       "      <td>0.086700</td>\n",
       "      <td>0.087522</td>\n",
       "      <td>0.978675</td>\n",
       "      <td>0.881472</td>\n",
       "      <td>0.911141</td>\n",
       "      <td>0.896061</td>\n",
       "    </tr>\n",
       "    <tr>\n",
       "      <td>4</td>\n",
       "      <td>0.089500</td>\n",
       "      <td>0.082536</td>\n",
       "      <td>0.979458</td>\n",
       "      <td>0.884559</td>\n",
       "      <td>0.916863</td>\n",
       "      <td>0.900421</td>\n",
       "    </tr>\n",
       "    <tr>\n",
       "      <td>5</td>\n",
       "      <td>0.090600</td>\n",
       "      <td>0.082867</td>\n",
       "      <td>0.980347</td>\n",
       "      <td>0.888600</td>\n",
       "      <td>0.920902</td>\n",
       "      <td>0.904463</td>\n",
       "    </tr>\n",
       "  </tbody>\n",
       "</table><p>"
      ],
      "text/plain": [
       "<IPython.core.display.HTML object>"
      ]
     },
     "metadata": {},
     "output_type": "display_data"
    },
    {
     "name": "stderr",
     "output_type": "stream",
     "text": [
      "Overwriting existing adapter 'conllpp_lora'.\n"
     ]
    },
    {
     "data": {
      "text/plain": [
       "TrainOutput(global_step=17555, training_loss=0.15664534746700798, metrics={'train_runtime': 710.1812, 'train_samples_per_second': 98.855, 'train_steps_per_second': 24.719, 'total_flos': 642575632056660.0, 'train_loss': 0.15664534746700798, 'epoch': 5.0})"
      ]
     },
     "execution_count": 36,
     "metadata": {},
     "output_type": "execute_result"
    }
   ],
   "source": [
    "trainer.train()"
   ]
  },
  {
   "cell_type": "code",
   "execution_count": 37,
   "id": "3045e94e-1ae0-4bf1-8a2c-df14c3bad7e2",
   "metadata": {
    "colab": {
     "base_uri": "https://localhost:8080/",
     "height": 193
    },
    "id": "3045e94e-1ae0-4bf1-8a2c-df14c3bad7e2",
    "outputId": "7e37ee18-1bd4-474b-d0ea-dfdba902296c"
   },
   "outputs": [
    {
     "data": {
      "text/html": [],
      "text/plain": [
       "<IPython.core.display.HTML object>"
      ]
     },
     "metadata": {},
     "output_type": "display_data"
    },
    {
     "data": {
      "text/plain": [
       "{'test_loss': 0.1254761517047882,\n",
       " 'test_accuracy': 0.9717250066295412,\n",
       " 'test_precision': 0.8674698795180723,\n",
       " 'test_recall': 0.8965275341985268,\n",
       " 'test_f1': 0.8817593790426909,\n",
       " 'test_runtime': 14.3226,\n",
       " 'test_samples_per_second': 241.087,\n",
       " 'test_steps_per_second': 60.324,\n",
       " 'epoch': 5.0}"
      ]
     },
     "execution_count": 37,
     "metadata": {},
     "output_type": "execute_result"
    }
   ],
   "source": [
    "trainer.evaluate(tokenized_datasets[\"test\"], metric_key_prefix=\"test\")"
   ]
  },
  {
   "cell_type": "code",
   "execution_count": 38,
   "id": "cb1d0b0f-9f0c-4397-8197-2458f47969a5",
   "metadata": {
    "colab": {
     "base_uri": "https://localhost:8080/",
     "height": 17
    },
    "id": "cb1d0b0f-9f0c-4397-8197-2458f47969a5",
    "outputId": "4e6ff999-823a-4746-d03c-b2b84947b091"
   },
   "outputs": [],
   "source": [
    "outs = trainer.predict(tokenized_datasets[\"test\"])\n",
    "preds, labels = outs.predictions, outs.label_ids\n",
    "preds = preds.argmax(axis=-1)\n",
    "clean_labels = [[label_names[l] for l in ls if l != -100] for ls in labels]\n",
    "clean_preds = [\n",
    "    [label_names[p] for (p, l) in zip(ps, ls) if l != -100]\n",
    "    for (ps, ls) in zip(preds, labels)\n",
    "]"
   ]
  },
  {
   "cell_type": "code",
   "execution_count": 39,
   "id": "b5c7d966-9f20-4847-b157-ece839112f7b",
   "metadata": {
    "colab": {
     "base_uri": "https://localhost:8080/"
    },
    "id": "b5c7d966-9f20-4847-b157-ece839112f7b",
    "outputId": "4fb59108-7cc0-486b-8308-fa1476721fb2"
   },
   "outputs": [
    {
     "name": "stdout",
     "output_type": "stream",
     "text": [
      "              precision    recall  f1-score   support\n",
      "\n",
      "         LOC       0.89      0.93      0.91      1646\n",
      "        MISC       0.69      0.78      0.73       723\n",
      "         ORG       0.85      0.87      0.86      1715\n",
      "         PER       0.96      0.95      0.96      1618\n",
      "\n",
      "   micro avg       0.87      0.90      0.88      5702\n",
      "   macro avg       0.85      0.88      0.86      5702\n",
      "weighted avg       0.87      0.90      0.88      5702\n",
      "\n"
     ]
    }
   ],
   "source": [
    "print(\n",
    "    seqeval.metrics.classification_report(\n",
    "        clean_labels,\n",
    "        clean_preds,\n",
    "    )\n",
    ")"
   ]
  },
  {
   "cell_type": "code",
   "execution_count": 40,
   "id": "a00826cf-e7c7-4428-ab22-b9bac8379006",
   "metadata": {
    "id": "a00826cf-e7c7-4428-ab22-b9bac8379006"
   },
   "outputs": [],
   "source": [
    "all_labels = []\n",
    "all_preds = []\n",
    "for l, p in zip(clean_labels, clean_preds):\n",
    "    all_labels.extend(l)\n",
    "    all_preds.extend(p)"
   ]
  },
  {
   "cell_type": "code",
   "execution_count": 41,
   "id": "a06d2141-fb60-4e0e-a212-49240e0d0a58",
   "metadata": {
    "colab": {
     "base_uri": "https://localhost:8080/",
     "height": 1000
    },
    "id": "a06d2141-fb60-4e0e-a212-49240e0d0a58",
    "outputId": "fe3ce6dd-64cd-4a93-eca4-750080419bd7"
   },
   "outputs": [
    {
     "data": {
      "image/png": "[encoded data removed]",
      "text/plain": [
       "<Figure size 1500x1500 with 1 Axes>"
      ]
     },
     "metadata": {},
     "output_type": "display_data"
    },
    {
     "data": {
      "text/plain": [
       "<Figure size 640x480 with 0 Axes>"
      ]
     },
     "metadata": {},
     "output_type": "display_data"
    }
   ],
   "source": [
    "_, ax = plt.subplots(figsize=(15, 15))\n",
    "cm = confusion_matrix(\n",
    "    all_labels,\n",
    "    all_preds,\n",
    "    normalize=\"true\",\n",
    ")\n",
    "disp = ConfusionMatrixDisplay(confusion_matrix=cm, display_labels=label_names)\n",
    "\n",
    "disp.plot(cmap=\"Blues\", colorbar=False, ax=ax, values_format=\".2f\")\n",
    "plt.show()\n",
    "plt.tight_layout()"
   ]
  },
  {
   "cell_type": "code",
   "execution_count": 42,
   "id": "b5a0f9ac-9b57-4df9-b7f4-25d0b4741933",
   "metadata": {
    "id": "b5a0f9ac-9b57-4df9-b7f4-25d0b4741933"
   },
   "outputs": [],
   "source": [
    "trainer.save_model(model_path)"
   ]
  },
  {
   "cell_type": "code",
   "execution_count": 43,
   "id": "5a5d7131-a416-468f-a13d-e290be328502",
   "metadata": {
    "colab": {
     "base_uri": "https://localhost:8080/",
     "height": 690,
     "referenced_widgets": [
      "00751c32ce284a7ebe750ad822ce6710",
      "73677e353db24d0696e3e7eb6800b053",
      "53242fdf56934c77918043980073e9fa",
      "ceadfbe5e3fd4e5fae37e7c827348da5",
      "e372c47ea20b42c39c1f13a82d037bf7",
      "e69252d6af01467f9c7e0158e9faf23b",
      "ab0331ac8ba44ba499ec134099f0ca40",
      "f363f0e5985b4374b7987410d1ab6819"
     ]
    },
    "id": "5a5d7131-a416-468f-a13d-e290be328502",
    "outputId": "ab259d7d-462b-4827-f012-99dbfe795e79"
   },
   "outputs": [
    {
     "data": {
      "application/vnd.jupyter.widget-view+json": {
       "model_id": "",
       "version_major": 2,
       "version_minor": 0
      },
      "text/plain": [
       "VBox(children=(Label(value='0.036 MB of 0.053 MB uploaded (0.005 MB deduped)\\r'), FloatProgress(value=0.672642…"
      ]
     },
     "metadata": {},
     "output_type": "display_data"
    },
    {
     "data": {
      "text/html": [
       "W&B sync reduced upload amount by 9.3%             "
      ],
      "text/plain": [
       "<IPython.core.display.HTML object>"
      ]
     },
     "metadata": {},
     "output_type": "display_data"
    },
    {
     "data": {
      "text/html": [
       "<style>\n",
       "    table.wandb td:nth-child(1) { padding: 0 10px; text-align: left ; width: auto;} td:nth-child(2) {text-align: left ; width: 100%}\n",
       "    .wandb-row { display: flex; flex-direction: row; flex-wrap: wrap; justify-content: flex-start; width: 100% }\n",
       "    .wandb-col { display: flex; flex-direction: column; flex-basis: 100%; flex: 1; padding: 10px; }\n",
       "    </style>\n",
       "<div class=\"wandb-row\"><div class=\"wandb-col\"><h3>Run history:</h3><br/><table class=\"wandb\"><tr><td>eval/accuracy</td><td>▁▅▇▇█</td></tr><tr><td>eval/f1</td><td>▁▅▇▇█</td></tr><tr><td>eval/loss</td><td>█▄▂▁▁</td></tr><tr><td>eval/precision</td><td>▁▅▇██</td></tr><tr><td>eval/recall</td><td>▁▅▆▇█</td></tr><tr><td>eval/runtime</td><td>▁▃█▅▂</td></tr><tr><td>eval/samples_per_second</td><td>█▅▁▄▇</td></tr><tr><td>eval/steps_per_second</td><td>█▅▁▄▇</td></tr><tr><td>test/accuracy</td><td>▁</td></tr><tr><td>test/f1</td><td>▁</td></tr><tr><td>test/loss</td><td>▁</td></tr><tr><td>test/precision</td><td>▁</td></tr><tr><td>test/recall</td><td>▁</td></tr><tr><td>test/runtime</td><td>▁</td></tr><tr><td>test/samples_per_second</td><td>▁</td></tr><tr><td>test/steps_per_second</td><td>▁</td></tr><tr><td>train/epoch</td><td>▁▁▁▂▂▂▂▂▂▃▃▃▃▃▄▄▄▄▄▄▅▅▅▅▆▆▆▆▆▇▇▇▇▇▇█████</td></tr><tr><td>train/global_step</td><td>▁▁▁▂▂▂▂▂▂▃▃▃▃▃▄▄▄▄▄▄▅▅▅▅▆▆▆▆▆▇▇▇▇▇▇█████</td></tr><tr><td>train/learning_rate</td><td>▅███▇▇▇▇▇▆▆▆▆▅▅▅▅▅▄▄▄▄▄▃▃▃▃▂▂▂▂▂▁▁▁</td></tr><tr><td>train/loss</td><td>█▃▂▂▂▁▁▁▁▁▁▁▁▁▁▁▁▁▁▁▁▁▁▁▁▁▁▁▁▁▁▁▁▁▁</td></tr><tr><td>train/total_flos</td><td>▁</td></tr><tr><td>train/train_loss</td><td>▁</td></tr><tr><td>train/train_runtime</td><td>▁</td></tr><tr><td>train/train_samples_per_second</td><td>▁</td></tr><tr><td>train/train_steps_per_second</td><td>▁</td></tr></table><br/></div><div class=\"wandb-col\"><h3>Run summary:</h3><br/><table class=\"wandb\"><tr><td>eval/accuracy</td><td>0.98035</td></tr><tr><td>eval/f1</td><td>0.90446</td></tr><tr><td>eval/loss</td><td>0.08287</td></tr><tr><td>eval/precision</td><td>0.8886</td></tr><tr><td>eval/recall</td><td>0.9209</td></tr><tr><td>eval/runtime</td><td>14.4276</td></tr><tr><td>eval/samples_per_second</td><td>225.263</td></tr><tr><td>eval/steps_per_second</td><td>56.351</td></tr><tr><td>test/accuracy</td><td>0.97173</td></tr><tr><td>test/f1</td><td>0.88176</td></tr><tr><td>test/loss</td><td>0.12548</td></tr><tr><td>test/precision</td><td>0.86747</td></tr><tr><td>test/recall</td><td>0.89653</td></tr><tr><td>test/runtime</td><td>14.3226</td></tr><tr><td>test/samples_per_second</td><td>241.087</td></tr><tr><td>test/steps_per_second</td><td>60.324</td></tr><tr><td>train/epoch</td><td>5.0</td></tr><tr><td>train/global_step</td><td>17555</td></tr><tr><td>train/learning_rate</td><td>0.0</td></tr><tr><td>train/loss</td><td>0.0906</td></tr><tr><td>train/total_flos</td><td>642575632056660.0</td></tr><tr><td>train/train_loss</td><td>0.15665</td></tr><tr><td>train/train_runtime</td><td>710.1812</td></tr><tr><td>train/train_samples_per_second</td><td>98.855</td></tr><tr><td>train/train_steps_per_second</td><td>24.719</td></tr></table><br/></div></div>"
      ],
      "text/plain": [
       "<IPython.core.display.HTML object>"
      ]
     },
     "metadata": {},
     "output_type": "display_data"
    },
    {
     "data": {
      "text/html": [
       " View run <strong style=\"color:#cdcd00\">distilroberta-base-finetuned-conllpp-adapters</strong> at: <a href='https://wandb.ai/e_hossam96/PEFT-NER/runs/m6volhhs' target=\"_blank\">https://wandb.ai/e_hossam96/PEFT-NER/runs/m6volhhs</a><br/> View job at <a href='https://wandb.ai/e_hossam96/PEFT-NER/jobs/QXJ0aWZhY3RDb2xsZWN0aW9uOjEzMDc3OTg5MQ==/version_details/v1' target=\"_blank\">https://wandb.ai/e_hossam96/PEFT-NER/jobs/QXJ0aWZhY3RDb2xsZWN0aW9uOjEzMDc3OTg5MQ==/version_details/v1</a><br/>Synced 5 W&B file(s), 0 media file(s), 2 artifact file(s) and 0 other file(s)"
      ],
      "text/plain": [
       "<IPython.core.display.HTML object>"
      ]
     },
     "metadata": {},
     "output_type": "display_data"
    },
    {
     "data": {
      "text/html": [
       "Find logs at: <code>./wandb/run-20240116_132317-m6volhhs/logs</code>"
      ],
      "text/plain": [
       "<IPython.core.display.HTML object>"
      ]
     },
     "metadata": {},
     "output_type": "display_data"
    }
   ],
   "source": [
    "wandb.finish()"
   ]
  },
  {
   "cell_type": "code",
   "execution_count": 44,
   "id": "1e87ee90-0649-4316-9ec8-5b21dc905c09",
   "metadata": {
    "id": "1e87ee90-0649-4316-9ec8-5b21dc905c09"
   },
   "outputs": [
    {
     "name": "stderr",
     "output_type": "stream",
     "text": [
      "Some weights of RobertaAdapterModel were not initialized from the model checkpoint at distilroberta-base and are newly initialized: ['heads.default.3.bias']\n",
      "You should probably TRAIN this model on a down-stream task to be able to use it for predictions and inference.\n"
     ]
    }
   ],
   "source": [
    "model = AutoAdapterModel.from_pretrained(model_ckpt)"
   ]
  },
  {
   "cell_type": "code",
   "execution_count": 45,
   "id": "uRxItJSAJh46",
   "metadata": {
    "colab": {
     "base_uri": "https://localhost:8080/",
     "height": 36
    },
    "id": "uRxItJSAJh46",
    "outputId": "63044656-21f4-4ede-d135-ba37de4436d8"
   },
   "outputs": [
    {
     "data": {
      "text/plain": [
       "'conllpp_lora'"
      ]
     },
     "execution_count": 45,
     "metadata": {},
     "output_type": "execute_result"
    }
   ],
   "source": [
    "model.load_adapter(model_path+\"/conllpp_lora\")"
   ]
  },
  {
   "cell_type": "code",
   "execution_count": 46,
   "id": "Vgr-hyOfJuTN",
   "metadata": {
    "colab": {
     "base_uri": "https://localhost:8080/"
    },
    "id": "Vgr-hyOfJuTN",
    "outputId": "8aab8e7d-c73e-4d03-9a8b-cc74f24bb281"
   },
   "outputs": [
    {
     "data": {
      "text/plain": [
       "('./models/distilroberta-base-finetuned-conllpp-adapters/conllpp_head',\n",
       " 'conllpp_head')"
      ]
     },
     "execution_count": 46,
     "metadata": {},
     "output_type": "execute_result"
    }
   ],
   "source": [
    "model.load_head(model_path+\"/conllpp_head\")"
   ]
  },
  {
   "cell_type": "code",
   "execution_count": 47,
   "id": "fb74ef17-6e3b-4ba5-a784-c0a32224394e",
   "metadata": {
    "id": "fb74ef17-6e3b-4ba5-a784-c0a32224394e"
   },
   "outputs": [],
   "source": [
    "tokenizer = AutoTokenizer.from_pretrained(model_path)"
   ]
  },
  {
   "cell_type": "code",
   "execution_count": 48,
   "id": "c872263f-7311-415b-8304-f429b345a33d",
   "metadata": {
    "colab": {
     "base_uri": "https://localhost:8080/"
    },
    "id": "c872263f-7311-415b-8304-f429b345a33d",
    "outputId": "a64ee1e2-2b9b-4fce-fe97-8906dd5ceb26"
   },
   "outputs": [
    {
     "name": "stdout",
     "output_type": "stream",
     "text": [
      "================================================================================\n",
      "Name                     Architecture         #Param      %Param  Active   Train\n",
      "--------------------------------------------------------------------------------\n",
      "conllpp_lora             lora                147,456       0.180       0       1\n",
      "--------------------------------------------------------------------------------\n",
      "Full model                                82,118,400     100.000               1\n",
      "================================================================================\n"
     ]
    }
   ],
   "source": [
    "print(model.adapter_summary())"
   ]
  },
  {
   "cell_type": "code",
   "execution_count": 49,
   "id": "IZZ0F0o7KJXA",
   "metadata": {
    "id": "IZZ0F0o7KJXA"
   },
   "outputs": [],
   "source": [
    "model.set_active_adapters([\"conllpp_lora\"])"
   ]
  },
  {
   "cell_type": "code",
   "execution_count": 50,
   "id": "miim_iyFKRXs",
   "metadata": {
    "colab": {
     "base_uri": "https://localhost:8080/"
    },
    "id": "miim_iyFKRXs",
    "outputId": "753e756c-7251-410b-90e4-b56904a507fc"
   },
   "outputs": [
    {
     "name": "stdout",
     "output_type": "stream",
     "text": [
      "================================================================================\n",
      "Name                     Architecture         #Param      %Param  Active   Train\n",
      "--------------------------------------------------------------------------------\n",
      "conllpp_lora             lora                147,456       0.180       1       1\n",
      "--------------------------------------------------------------------------------\n",
      "Full model                                82,118,400     100.000               1\n",
      "================================================================================\n"
     ]
    }
   ],
   "source": [
    "print(model.adapter_summary())"
   ]
  },
  {
   "cell_type": "code",
   "execution_count": 51,
   "id": "993fd9b2-f9bb-4ea8-ac8c-fac43283086c",
   "metadata": {
    "colab": {
     "base_uri": "https://localhost:8080/"
    },
    "id": "993fd9b2-f9bb-4ea8-ac8c-fac43283086c",
    "outputId": "05b82593-5c99-4b5a-fac9-2c5aa7162448"
   },
   "outputs": [
    {
     "name": "stderr",
     "output_type": "stream",
     "text": [
      "The model 'RobertaAdapterModel' is not supported for ner. Supported models are ['AlbertForTokenClassification', 'BertForTokenClassification', 'BigBirdForTokenClassification', 'BioGptForTokenClassification', 'BloomForTokenClassification', 'BrosForTokenClassification', 'CamembertForTokenClassification', 'CanineForTokenClassification', 'ConvBertForTokenClassification', 'Data2VecTextForTokenClassification', 'DebertaForTokenClassification', 'DebertaV2ForTokenClassification', 'DistilBertForTokenClassification', 'ElectraForTokenClassification', 'ErnieForTokenClassification', 'ErnieMForTokenClassification', 'EsmForTokenClassification', 'FalconForTokenClassification', 'FlaubertForTokenClassification', 'FNetForTokenClassification', 'FunnelForTokenClassification', 'GPT2ForTokenClassification', 'GPT2ForTokenClassification', 'GPTBigCodeForTokenClassification', 'GPTNeoForTokenClassification', 'GPTNeoXForTokenClassification', 'IBertForTokenClassification', 'LayoutLMForTokenClassification', 'LayoutLMv2ForTokenClassification', 'LayoutLMv3ForTokenClassification', 'LiltForTokenClassification', 'LongformerForTokenClassification', 'LukeForTokenClassification', 'MarkupLMForTokenClassification', 'MegaForTokenClassification', 'MegatronBertForTokenClassification', 'MobileBertForTokenClassification', 'MPNetForTokenClassification', 'MptForTokenClassification', 'MraForTokenClassification', 'NezhaForTokenClassification', 'NystromformerForTokenClassification', 'QDQBertForTokenClassification', 'RemBertForTokenClassification', 'RobertaForTokenClassification', 'RobertaPreLayerNormForTokenClassification', 'RoCBertForTokenClassification', 'RoFormerForTokenClassification', 'SqueezeBertForTokenClassification', 'XLMForTokenClassification', 'XLMRobertaForTokenClassification', 'XLMRobertaXLForTokenClassification', 'XLNetForTokenClassification', 'XmodForTokenClassification', 'YosoForTokenClassification'].\n"
     ]
    }
   ],
   "source": [
    "ner = pipeline(\"ner\", model=model, tokenizer=tokenizer, aggregation_strategy=\"simple\")"
   ]
  },
  {
   "cell_type": "code",
   "execution_count": 52,
   "id": "d7c20f31-2073-4e0f-ad9c-1885c077081c",
   "metadata": {
    "colab": {
     "base_uri": "https://localhost:8080/"
    },
    "id": "d7c20f31-2073-4e0f-ad9c-1885c077081c",
    "outputId": "42cc0cb8-98b3-47e1-8489-7c2f625a5aca"
   },
   "outputs": [
    {
     "data": {
      "text/plain": [
       "[{'entity_group': 'LOC',\n",
       "  'score': 0.9988405,\n",
       "  'word': ' Egypt',\n",
       "  'start': 7,\n",
       "  'end': 12}]"
      ]
     },
     "execution_count": 52,
     "metadata": {},
     "output_type": "execute_result"
    }
   ],
   "source": [
    "ner(\"I love Egypt\")"
   ]
  },
  {
   "cell_type": "code",
   "execution_count": 53,
   "id": "7564c270-3eb8-47b8-9b80-909d0e0edef3",
   "metadata": {
    "id": "7564c270-3eb8-47b8-9b80-909d0e0edef3"
   },
   "outputs": [],
   "source": [
    "from spacy import displacy\n",
    "from IPython.display import HTML"
   ]
  },
  {
   "cell_type": "code",
   "execution_count": 54,
   "id": "22711ebf-d7f1-4efe-b1cc-439dd7c22c88",
   "metadata": {
    "id": "22711ebf-d7f1-4efe-b1cc-439dd7c22c88"
   },
   "outputs": [],
   "source": [
    "def create_scheme(text, outs):\n",
    "    scheme = {}\n",
    "    scheme[\"text\"] = text\n",
    "    scheme[\"ents\"] = [\n",
    "        {\"start\": ent[\"start\"], \"end\": ent[\"end\"], \"label\": ent[\"entity_group\"]}\n",
    "        for ent in outs\n",
    "    ]\n",
    "    scheme[\"title\"] = None\n",
    "    return scheme"
   ]
  },
  {
   "cell_type": "code",
   "execution_count": 55,
   "id": "ad50ea43-01e1-4db1-8eef-f6c9871b8cb5",
   "metadata": {
    "id": "ad50ea43-01e1-4db1-8eef-f6c9871b8cb5"
   },
   "outputs": [],
   "source": [
    "index = 10\n",
    "text = \" \".join(raw_datasets[\"train\"][\"tokens\"][index])\n",
    "outs = ner(text)"
   ]
  },
  {
   "cell_type": "code",
   "execution_count": 56,
   "id": "f881248f-9d65-4978-bd8f-f53eb750b905",
   "metadata": {
    "colab": {
     "base_uri": "https://localhost:8080/",
     "height": 87
    },
    "id": "f881248f-9d65-4978-bd8f-f53eb750b905",
    "outputId": "11f9962a-3cea-466c-a72d-5d89a816f83d"
   },
   "outputs": [
    {
     "data": {
      "text/html": [
       "<span class=\"tex2jax_ignore\"><div class=\"entities\" style=\"line-height: 2.5; direction: ltr\">\n",
       "<mark class=\"entity\" style=\"background: #ddd; padding: 0.45em 0.6em; margin: 0 0.25em; line-height: 1; border-radius: 0.35em;\">\n",
       "    Spanish\n",
       "    <span style=\"font-size: 0.8em; font-weight: bold; line-height: 1; border-radius: 0.35em; vertical-align: middle; margin-left: 0.5rem\">MISC</span>\n",
       "</mark>\n",
       " Farm Minister \n",
       "<mark class=\"entity\" style=\"background: #ddd; padding: 0.45em 0.6em; margin: 0 0.25em; line-height: 1; border-radius: 0.35em;\">\n",
       "    Loyola de Palacio\n",
       "    <span style=\"font-size: 0.8em; font-weight: bold; line-height: 1; border-radius: 0.35em; vertical-align: middle; margin-left: 0.5rem\">PER</span>\n",
       "</mark>\n",
       " had earlier accused \n",
       "<mark class=\"entity\" style=\"background: #ddd; padding: 0.45em 0.6em; margin: 0 0.25em; line-height: 1; border-radius: 0.35em;\">\n",
       "    Fischler\n",
       "    <span style=\"font-size: 0.8em; font-weight: bold; line-height: 1; border-radius: 0.35em; vertical-align: middle; margin-left: 0.5rem\">PER</span>\n",
       "</mark>\n",
       " at an \n",
       "<mark class=\"entity\" style=\"background: #7aecec; padding: 0.45em 0.6em; margin: 0 0.25em; line-height: 1; border-radius: 0.35em;\">\n",
       "    EU\n",
       "    <span style=\"font-size: 0.8em; font-weight: bold; line-height: 1; border-radius: 0.35em; vertical-align: middle; margin-left: 0.5rem\">ORG</span>\n",
       "</mark>\n",
       " farm ministers ' meeting of causing unjustified alarm through &quot; dangerous generalisation . &quot;</div></span>"
      ],
      "text/plain": [
       "<IPython.core.display.HTML object>"
      ]
     },
     "metadata": {},
     "output_type": "display_data"
    }
   ],
   "source": [
    "_ = HTML(displacy.render(create_scheme(text, outs), style=\"ent\", manual=True))"
   ]
  }
 ],
 "metadata": {
  "accelerator": "GPU",
  "colab": {
   "gpuType": "T4",
   "provenance": []
  },
  "kernelspec": {
   "display_name": "Python 3 (ipykernel)",
   "language": "python",
   "name": "python3"
  },
  "language_info": {
   "codemirror_mode": {
    "name": "ipython",
    "version": 3
   },
   "file_extension": ".py",
   "mimetype": "text/x-python",
   "name": "python",
   "nbconvert_exporter": "python",
   "pygments_lexer": "ipython3",
   "version": "3.9.16"
  },
  "widgets": {
   "application/vnd.jupyter.widget-state+json": {
    "00751c32ce284a7ebe750ad822ce6710": {
     "model_module": "@jupyter-widgets/controls",
     "model_module_version": "1.5.0",
     "model_name": "VBoxModel",
     "state": {
      "_dom_classes": [],
      "_model_module": "@jupyter-widgets/controls",
      "_model_module_version": "1.5.0",
      "_model_name": "VBoxModel",
      "_view_count": null,
      "_view_module": "@jupyter-widgets/controls",
      "_view_module_version": "1.5.0",
      "_view_name": "VBoxView",
      "box_style": "",
      "children": [
       "IPY_MODEL_73677e353db24d0696e3e7eb6800b053",
       "IPY_MODEL_53242fdf56934c77918043980073e9fa"
      ],
      "layout": "IPY_MODEL_ceadfbe5e3fd4e5fae37e7c827348da5"
     }
    },
    "53242fdf56934c77918043980073e9fa": {
     "model_module": "@jupyter-widgets/controls",
     "model_module_version": "1.5.0",
     "model_name": "FloatProgressModel",
     "state": {
      "_dom_classes": [],
      "_model_module": "@jupyter-widgets/controls",
      "_model_module_version": "1.5.0",
      "_model_name": "FloatProgressModel",
      "_view_count": null,
      "_view_module": "@jupyter-widgets/controls",
      "_view_module_version": "1.5.0",
      "_view_name": "ProgressView",
      "bar_style": "",
      "description": "",
      "description_tooltip": null,
      "layout": "IPY_MODEL_ab0331ac8ba44ba499ec134099f0ca40",
      "max": 1,
      "min": 0,
      "orientation": "horizontal",
      "style": "IPY_MODEL_f363f0e5985b4374b7987410d1ab6819",
      "value": 1
     }
    },
    "73677e353db24d0696e3e7eb6800b053": {
     "model_module": "@jupyter-widgets/controls",
     "model_module_version": "1.5.0",
     "model_name": "LabelModel",
     "state": {
      "_dom_classes": [],
      "_model_module": "@jupyter-widgets/controls",
      "_model_module_version": "1.5.0",
      "_model_name": "LabelModel",
      "_view_count": null,
      "_view_module": "@jupyter-widgets/controls",
      "_view_module_version": "1.5.0",
      "_view_name": "LabelView",
      "description": "",
      "description_tooltip": null,
      "layout": "IPY_MODEL_e372c47ea20b42c39c1f13a82d037bf7",
      "placeholder": "​",
      "style": "IPY_MODEL_e69252d6af01467f9c7e0158e9faf23b",
      "value": "0.023 MB of 0.023 MB uploaded\r"
     }
    },
    "ab0331ac8ba44ba499ec134099f0ca40": {
     "model_module": "@jupyter-widgets/base",
     "model_module_version": "1.2.0",
     "model_name": "LayoutModel",
     "state": {
      "_model_module": "@jupyter-widgets/base",
      "_model_module_version": "1.2.0",
      "_model_name": "LayoutModel",
      "_view_count": null,
      "_view_module": "@jupyter-widgets/base",
      "_view_module_version": "1.2.0",
      "_view_name": "LayoutView",
      "align_content": null,
      "align_items": null,
      "align_self": null,
      "border": null,
      "bottom": null,
      "display": null,
      "flex": null,
      "flex_flow": null,
      "grid_area": null,
      "grid_auto_columns": null,
      "grid_auto_flow": null,
      "grid_auto_rows": null,
      "grid_column": null,
      "grid_gap": null,
      "grid_row": null,
      "grid_template_areas": null,
      "grid_template_columns": null,
      "grid_template_rows": null,
      "height": null,
      "justify_content": null,
      "justify_items": null,
      "left": null,
      "margin": null,
      "max_height": null,
      "max_width": null,
      "min_height": null,
      "min_width": null,
      "object_fit": null,
      "object_position": null,
      "order": null,
      "overflow": null,
      "overflow_x": null,
      "overflow_y": null,
      "padding": null,
      "right": null,
      "top": null,
      "visibility": null,
      "width": null
     }
    },
    "ceadfbe5e3fd4e5fae37e7c827348da5": {
     "model_module": "@jupyter-widgets/base",
     "model_module_version": "1.2.0",
     "model_name": "LayoutModel",
     "state": {
      "_model_module": "@jupyter-widgets/base",
      "_model_module_version": "1.2.0",
      "_model_name": "LayoutModel",
      "_view_count": null,
      "_view_module": "@jupyter-widgets/base",
      "_view_module_version": "1.2.0",
      "_view_name": "LayoutView",
      "align_content": null,
      "align_items": null,
      "align_self": null,
      "border": null,
      "bottom": null,
      "display": null,
      "flex": null,
      "flex_flow": null,
      "grid_area": null,
      "grid_auto_columns": null,
      "grid_auto_flow": null,
      "grid_auto_rows": null,
      "grid_column": null,
      "grid_gap": null,
      "grid_row": null,
      "grid_template_areas": null,
      "grid_template_columns": null,
      "grid_template_rows": null,
      "height": null,
      "justify_content": null,
      "justify_items": null,
      "left": null,
      "margin": null,
      "max_height": null,
      "max_width": null,
      "min_height": null,
      "min_width": null,
      "object_fit": null,
      "object_position": null,
      "order": null,
      "overflow": null,
      "overflow_x": null,
      "overflow_y": null,
      "padding": null,
      "right": null,
      "top": null,
      "visibility": null,
      "width": null
     }
    },
    "e372c47ea20b42c39c1f13a82d037bf7": {
     "model_module": "@jupyter-widgets/base",
     "model_module_version": "1.2.0",
     "model_name": "LayoutModel",
     "state": {
      "_model_module": "@jupyter-widgets/base",
      "_model_module_version": "1.2.0",
      "_model_name": "LayoutModel",
      "_view_count": null,
      "_view_module": "@jupyter-widgets/base",
      "_view_module_version": "1.2.0",
      "_view_name": "LayoutView",
      "align_content": null,
      "align_items": null,
      "align_self": null,
      "border": null,
      "bottom": null,
      "display": null,
      "flex": null,
      "flex_flow": null,
      "grid_area": null,
      "grid_auto_columns": null,
      "grid_auto_flow": null,
      "grid_auto_rows": null,
      "grid_column": null,
      "grid_gap": null,
      "grid_row": null,
      "grid_template_areas": null,
      "grid_template_columns": null,
      "grid_template_rows": null,
      "height": null,
      "justify_content": null,
      "justify_items": null,
      "left": null,
      "margin": null,
      "max_height": null,
      "max_width": null,
      "min_height": null,
      "min_width": null,
      "object_fit": null,
      "object_position": null,
      "order": null,
      "overflow": null,
      "overflow_x": null,
      "overflow_y": null,
      "padding": null,
      "right": null,
      "top": null,
      "visibility": null,
      "width": null
     }
    },
    "e69252d6af01467f9c7e0158e9faf23b": {
     "model_module": "@jupyter-widgets/controls",
     "model_module_version": "1.5.0",
     "model_name": "DescriptionStyleModel",
     "state": {
      "_model_module": "@jupyter-widgets/controls",
      "_model_module_version": "1.5.0",
      "_model_name": "DescriptionStyleModel",
      "_view_count": null,
      "_view_module": "@jupyter-widgets/base",
      "_view_module_version": "1.2.0",
      "_view_name": "StyleView",
      "description_width": ""
     }
    },
    "f363f0e5985b4374b7987410d1ab6819": {
     "model_module": "@jupyter-widgets/controls",
     "model_module_version": "1.5.0",
     "model_name": "ProgressStyleModel",
     "state": {
      "_model_module": "@jupyter-widgets/controls",
      "_model_module_version": "1.5.0",
      "_model_name": "ProgressStyleModel",
      "_view_count": null,
      "_view_module": "@jupyter-widgets/base",
      "_view_module_version": "1.2.0",
      "_view_name": "StyleView",
      "bar_color": null,
      "description_width": ""
     }
    }
   }
  }
 },
 "nbformat": 4,
 "nbformat_minor": 5
}
