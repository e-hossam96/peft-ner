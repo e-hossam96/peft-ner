{
 "cells": [
  {
   "cell_type": "markdown",
   "id": "88a2bbd2-1343-467d-8828-1df121945981",
   "metadata": {
    "id": "88a2bbd2-1343-467d-8828-1df121945981"
   },
   "source": [
    "# NER with PEFT"
   ]
  },
  {
   "cell_type": "markdown",
   "id": "896e349e-0811-4230-b16b-0127294b0a55",
   "metadata": {
    "id": "896e349e-0811-4230-b16b-0127294b0a55"
   },
   "source": [
    "In this notebook we will perform PEFT for a token classification task on the CoNLLpp dataset."
   ]
  },
  {
   "cell_type": "code",
   "execution_count": 1,
   "id": "3563207a-ffaf-4d7f-819a-916757db3f27",
   "metadata": {
    "id": "3563207a-ffaf-4d7f-819a-916757db3f27"
   },
   "outputs": [],
   "source": [
    "import json\n",
    "import wandb\n",
    "import torch\n",
    "import random\n",
    "import numpy as np\n",
    "import pandas as pd"
   ]
  },
  {
   "cell_type": "code",
   "execution_count": 2,
   "id": "b7bb2564-7e34-4fc1-a403-83b389c364c1",
   "metadata": {
    "id": "b7bb2564-7e34-4fc1-a403-83b389c364c1"
   },
   "outputs": [],
   "source": [
    "from datasets import load_dataset, Dataset\n",
    "\n",
    "import transformers\n",
    "from transformers import pipeline\n",
    "from transformers import AutoTokenizer\n",
    "from transformers import AutoModelForMaskedLM\n",
    "from transformers import DataCollatorForLanguageModeling\n",
    "from transformers import TrainingArguments, Trainer"
   ]
  },
  {
   "cell_type": "code",
   "execution_count": 3,
   "id": "9babee2a-a20e-41b9-be67-1b674ffc01ce",
   "metadata": {
    "id": "9babee2a-a20e-41b9-be67-1b674ffc01ce"
   },
   "outputs": [],
   "source": [
    "# fix random seed\n",
    "seed = 42\n",
    "random.seed(seed)\n",
    "np.random.seed(seed)\n",
    "torch.manual_seed(seed)\n",
    "torch.cuda.manual_seed(seed)\n",
    "transformers.set_seed(seed)"
   ]
  },
  {
   "cell_type": "code",
   "execution_count": 4,
   "id": "a1e51b12-5eec-43af-8d5f-f2dbcd1a9e18",
   "metadata": {
    "id": "a1e51b12-5eec-43af-8d5f-f2dbcd1a9e18"
   },
   "outputs": [],
   "source": [
    "project_name = \"PEFT-NER\"\n",
    "access_tokens_path = \"./data/access_tokens.json\"\n",
    "model_ckpt = \"distilroberta-base\"\n",
    "data_ckpt = \"conllpp\"\n",
    "\n",
    "model_name = f\"{model_ckpt}-finetuned-{data_ckpt}-mlm-adapters\"\n",
    "model_path = f\"./models/{model_name}\""
   ]
  },
  {
   "cell_type": "code",
   "execution_count": 5,
   "id": "1d0a4de9-4555-4a2d-ba43-7728d2bc35ba",
   "metadata": {
    "colab": {
     "base_uri": "https://localhost:8080/"
    },
    "id": "1d0a4de9-4555-4a2d-ba43-7728d2bc35ba",
    "outputId": "b39370e5-ce8a-441c-805f-f0aaff33cea2"
   },
   "outputs": [
    {
     "data": {
      "application/vnd.jupyter.widget-view+json": {
       "model_id": "157833dab1454cc3babbccbc40b7c642",
       "version_major": 2,
       "version_minor": 0
      },
      "text/plain": [
       "Downloading data:   0%|          | 0.00/1.23M [00:00<?, ?B/s]"
      ]
     },
     "metadata": {},
     "output_type": "display_data"
    },
    {
     "data": {
      "application/vnd.jupyter.widget-view+json": {
       "model_id": "a26e7eabcc4140cd8730e42f2bc5a4dd",
       "version_major": 2,
       "version_minor": 0
      },
      "text/plain": [
       "Downloading data:   0%|          | 0.00/312k [00:00<?, ?B/s]"
      ]
     },
     "metadata": {},
     "output_type": "display_data"
    },
    {
     "data": {
      "application/vnd.jupyter.widget-view+json": {
       "model_id": "0c692a2c45ec4f738a78a905445cca8e",
       "version_major": 2,
       "version_minor": 0
      },
      "text/plain": [
       "Downloading data:   0%|          | 0.00/279k [00:00<?, ?B/s]"
      ]
     },
     "metadata": {},
     "output_type": "display_data"
    },
    {
     "data": {
      "application/vnd.jupyter.widget-view+json": {
       "model_id": "1e7ac87fa3304ed6af0362f08a92545f",
       "version_major": 2,
       "version_minor": 0
      },
      "text/plain": [
       "Generating train split: 0 examples [00:00, ? examples/s]"
      ]
     },
     "metadata": {},
     "output_type": "display_data"
    },
    {
     "data": {
      "application/vnd.jupyter.widget-view+json": {
       "model_id": "50c511f02b4c46bc9a4de6bc05ebe68e",
       "version_major": 2,
       "version_minor": 0
      },
      "text/plain": [
       "Generating validation split: 0 examples [00:00, ? examples/s]"
      ]
     },
     "metadata": {},
     "output_type": "display_data"
    },
    {
     "data": {
      "application/vnd.jupyter.widget-view+json": {
       "model_id": "cb60ce6add224679a721331905109b71",
       "version_major": 2,
       "version_minor": 0
      },
      "text/plain": [
       "Generating test split: 0 examples [00:00, ? examples/s]"
      ]
     },
     "metadata": {},
     "output_type": "display_data"
    }
   ],
   "source": [
    "raw_datasets = load_dataset(data_ckpt)"
   ]
  },
  {
   "cell_type": "code",
   "execution_count": 6,
   "id": "697f1847-82af-416d-ad70-976ac62bf57c",
   "metadata": {
    "colab": {
     "base_uri": "https://localhost:8080/"
    },
    "id": "697f1847-82af-416d-ad70-976ac62bf57c",
    "outputId": "18c143a7-e0a0-48c1-f606-2c085897f521"
   },
   "outputs": [
    {
     "data": {
      "text/plain": [
       "DatasetDict({\n",
       "    train: Dataset({\n",
       "        features: ['id', 'tokens', 'pos_tags', 'chunk_tags', 'ner_tags'],\n",
       "        num_rows: 14041\n",
       "    })\n",
       "    validation: Dataset({\n",
       "        features: ['id', 'tokens', 'pos_tags', 'chunk_tags', 'ner_tags'],\n",
       "        num_rows: 3250\n",
       "    })\n",
       "    test: Dataset({\n",
       "        features: ['id', 'tokens', 'pos_tags', 'chunk_tags', 'ner_tags'],\n",
       "        num_rows: 3453\n",
       "    })\n",
       "})"
      ]
     },
     "execution_count": 6,
     "metadata": {},
     "output_type": "execute_result"
    }
   ],
   "source": [
    "raw_datasets"
   ]
  },
  {
   "cell_type": "code",
   "execution_count": 7,
   "id": "8e1473fa-a288-42c6-9e17-f1124b2bab38",
   "metadata": {
    "id": "8e1473fa-a288-42c6-9e17-f1124b2bab38"
   },
   "outputs": [],
   "source": [
    "cols_to_remove = [\"id\", \"pos_tags\", \"chunk_tags\", \"ner_tags\"]  # used for conll datasets"
   ]
  },
  {
   "cell_type": "code",
   "execution_count": 8,
   "id": "8f1b5aa5-ca21-472f-8d9c-7e40c0bc4890",
   "metadata": {
    "id": "8f1b5aa5-ca21-472f-8d9c-7e40c0bc4890"
   },
   "outputs": [],
   "source": [
    "raw_datasets = raw_datasets.remove_columns(cols_to_remove)"
   ]
  },
  {
   "cell_type": "code",
   "execution_count": 9,
   "id": "5b8a9ea5-bb3c-4bb1-b8bd-d0db807ea5c7",
   "metadata": {
    "colab": {
     "base_uri": "https://localhost:8080/"
    },
    "id": "5b8a9ea5-bb3c-4bb1-b8bd-d0db807ea5c7",
    "outputId": "d495a7ea-583e-4346-e213-77d9b5ade2d5"
   },
   "outputs": [
    {
     "data": {
      "text/plain": [
       "DatasetDict({\n",
       "    train: Dataset({\n",
       "        features: ['tokens'],\n",
       "        num_rows: 14041\n",
       "    })\n",
       "    validation: Dataset({\n",
       "        features: ['tokens'],\n",
       "        num_rows: 3250\n",
       "    })\n",
       "    test: Dataset({\n",
       "        features: ['tokens'],\n",
       "        num_rows: 3453\n",
       "    })\n",
       "})"
      ]
     },
     "execution_count": 9,
     "metadata": {},
     "output_type": "execute_result"
    }
   ],
   "source": [
    "raw_datasets"
   ]
  },
  {
   "cell_type": "code",
   "execution_count": 10,
   "id": "384fcfbe-5c59-46a3-ac36-5634775d286d",
   "metadata": {
    "colab": {
     "base_uri": "https://localhost:8080/"
    },
    "id": "384fcfbe-5c59-46a3-ac36-5634775d286d",
    "outputId": "18e45754-b710-49ce-d5f1-1301b25356a3"
   },
   "outputs": [
    {
     "data": {
      "application/vnd.jupyter.widget-view+json": {
       "model_id": "065c4f25032341639bfa32b44fcd9094",
       "version_major": 2,
       "version_minor": 0
      },
      "text/plain": [
       "Map:   0%|          | 0/14041 [00:00<?, ? examples/s]"
      ]
     },
     "metadata": {},
     "output_type": "display_data"
    },
    {
     "data": {
      "application/vnd.jupyter.widget-view+json": {
       "model_id": "d0fd69a9fe9e44dda56efdd04a886d51",
       "version_major": 2,
       "version_minor": 0
      },
      "text/plain": [
       "Map:   0%|          | 0/3250 [00:00<?, ? examples/s]"
      ]
     },
     "metadata": {},
     "output_type": "display_data"
    },
    {
     "data": {
      "application/vnd.jupyter.widget-view+json": {
       "model_id": "8586f9e8e90a498fbec2c26790ebf1c6",
       "version_major": 2,
       "version_minor": 0
      },
      "text/plain": [
       "Map:   0%|          | 0/3453 [00:00<?, ? examples/s]"
      ]
     },
     "metadata": {},
     "output_type": "display_data"
    }
   ],
   "source": [
    "raw_datasets = raw_datasets.map(lambda x: {\"text\": [\" \".join(t) for t in x[\"tokens\"]]}, batched=True, remove_columns=raw_datasets[\"train\"].column_names)"
   ]
  },
  {
   "cell_type": "code",
   "execution_count": 11,
   "id": "607fa5d6-126a-42db-ab97-dfba506b249d",
   "metadata": {},
   "outputs": [
    {
     "data": {
      "text/plain": [
       "{'text': 'EU rejects German call to boycott British lamb .'}"
      ]
     },
     "execution_count": 11,
     "metadata": {},
     "output_type": "execute_result"
    }
   ],
   "source": [
    "raw_datasets[\"train\"][0]"
   ]
  },
  {
   "cell_type": "code",
   "execution_count": 12,
   "id": "f35fe97d-ffcf-4b3e-b342-f1b9155f160c",
   "metadata": {
    "id": "f35fe97d-ffcf-4b3e-b342-f1b9155f160c"
   },
   "outputs": [],
   "source": [
    "tokenizer = AutoTokenizer.from_pretrained(model_ckpt)"
   ]
  },
  {
   "cell_type": "code",
   "execution_count": 13,
   "id": "19129a95-15d6-4886-acfb-abf1a3de7076",
   "metadata": {
    "id": "19129a95-15d6-4886-acfb-abf1a3de7076"
   },
   "outputs": [],
   "source": [
    "def tokenize(batch):\n",
    "    tokenized = tokenizer(\n",
    "        batch[\"text\"],\n",
    "        truncation=True,\n",
    "    )\n",
    "    return tokenized"
   ]
  },
  {
   "cell_type": "code",
   "execution_count": 14,
   "id": "54e26acc-39e6-4272-b062-318fbcc990dd",
   "metadata": {
    "id": "54e26acc-39e6-4272-b062-318fbcc990dd"
   },
   "outputs": [
    {
     "data": {
      "application/vnd.jupyter.widget-view+json": {
       "model_id": "e3e2ea14f08d4068a4abe69ebf4113c6",
       "version_major": 2,
       "version_minor": 0
      },
      "text/plain": [
       "Map:   0%|          | 0/14041 [00:00<?, ? examples/s]"
      ]
     },
     "metadata": {},
     "output_type": "display_data"
    },
    {
     "data": {
      "application/vnd.jupyter.widget-view+json": {
       "model_id": "2dd70e16ff954f4b99ef7f2cea3a94f3",
       "version_major": 2,
       "version_minor": 0
      },
      "text/plain": [
       "Map:   0%|          | 0/3250 [00:00<?, ? examples/s]"
      ]
     },
     "metadata": {},
     "output_type": "display_data"
    },
    {
     "data": {
      "application/vnd.jupyter.widget-view+json": {
       "model_id": "74dcd338419341b79593170e2ae387c7",
       "version_major": 2,
       "version_minor": 0
      },
      "text/plain": [
       "Map:   0%|          | 0/3453 [00:00<?, ? examples/s]"
      ]
     },
     "metadata": {},
     "output_type": "display_data"
    }
   ],
   "source": [
    "tokenized_datasets = raw_datasets.map(\n",
    "    tokenize,\n",
    "    batched=True,\n",
    "    remove_columns=raw_datasets[\"train\"].column_names,\n",
    ")"
   ]
  },
  {
   "cell_type": "code",
   "execution_count": 15,
   "id": "34ab295f-9b52-4c34-8c53-2f6bb15e2c39",
   "metadata": {},
   "outputs": [
    {
     "data": {
      "text/plain": [
       "DatasetDict({\n",
       "    train: Dataset({\n",
       "        features: ['input_ids', 'attention_mask'],\n",
       "        num_rows: 14041\n",
       "    })\n",
       "    validation: Dataset({\n",
       "        features: ['input_ids', 'attention_mask'],\n",
       "        num_rows: 3250\n",
       "    })\n",
       "    test: Dataset({\n",
       "        features: ['input_ids', 'attention_mask'],\n",
       "        num_rows: 3453\n",
       "    })\n",
       "})"
      ]
     },
     "execution_count": 15,
     "metadata": {},
     "output_type": "execute_result"
    }
   ],
   "source": [
    "tokenized_datasets"
   ]
  },
  {
   "cell_type": "code",
   "execution_count": 16,
   "id": "a1d8bbeb-b847-4006-8e74-2d413d3a32cf",
   "metadata": {},
   "outputs": [],
   "source": [
    "from adapters import AutoAdapterModel, init, AdapterConfig"
   ]
  },
  {
   "cell_type": "code",
   "execution_count": 17,
   "id": "03406cf0-d846-45a2-a8a3-91a2d92c0912",
   "metadata": {
    "id": "03406cf0-d846-45a2-a8a3-91a2d92c0912"
   },
   "outputs": [
    {
     "name": "stderr",
     "output_type": "stream",
     "text": [
      "Some weights of RobertaAdapterModel were not initialized from the model checkpoint at distilroberta-base and are newly initialized: ['heads.default.3.bias']\n",
      "You should probably TRAIN this model on a down-stream task to be able to use it for predictions and inference.\n"
     ]
    }
   ],
   "source": [
    "model = AutoAdapterModel.from_pretrained(model_ckpt)"
   ]
  },
  {
   "cell_type": "code",
   "execution_count": 18,
   "id": "aa5bd583-c165-4559-ad2b-5c1618144899",
   "metadata": {},
   "outputs": [
    {
     "name": "stdout",
     "output_type": "stream",
     "text": [
      "================================================================================\n",
      "Name                     Architecture         #Param      %Param  Active   Train\n",
      "--------------------------------------------------------------------------------\n",
      "--------------------------------------------------------------------------------\n",
      "Full model                                82,118,400     100.000               1\n",
      "================================================================================\n"
     ]
    }
   ],
   "source": [
    "print(model.adapter_summary())"
   ]
  },
  {
   "cell_type": "code",
   "execution_count": 19,
   "id": "2bc4b051-26ea-4363-bd77-c06d896a08ee",
   "metadata": {},
   "outputs": [],
   "source": [
    "adapter_config = AdapterConfig.load(\"lora\", r=8, alpha=32)"
   ]
  },
  {
   "cell_type": "code",
   "execution_count": 20,
   "id": "0d6da502-925f-43b4-8942-21c729080d8b",
   "metadata": {},
   "outputs": [],
   "source": [
    "model.add_adapter(\"conllpp_lora_mlm\", config=adapter_config)"
   ]
  },
  {
   "cell_type": "code",
   "execution_count": 21,
   "id": "77575be3-1db7-46b9-8c2c-77da12de5fa3",
   "metadata": {},
   "outputs": [
    {
     "name": "stdout",
     "output_type": "stream",
     "text": [
      "================================================================================\n",
      "Name                     Architecture         #Param      %Param  Active   Train\n",
      "--------------------------------------------------------------------------------\n",
      "conllpp_lora_mlm         lora                147,456       0.180       0       1\n",
      "--------------------------------------------------------------------------------\n",
      "Full model                                82,118,400     100.000               1\n",
      "================================================================================\n"
     ]
    }
   ],
   "source": [
    "print(model.adapter_summary())"
   ]
  },
  {
   "cell_type": "code",
   "execution_count": 22,
   "id": "f40d2a8d-dcb1-4347-9277-6c0e5d3d68fa",
   "metadata": {},
   "outputs": [],
   "source": [
    "model.add_masked_lm_head(\"conllpp_head_mlm\")"
   ]
  },
  {
   "cell_type": "code",
   "execution_count": 23,
   "id": "e8f5e7c8-e46b-4adf-bab4-799e253ccd5d",
   "metadata": {},
   "outputs": [
    {
     "name": "stdout",
     "output_type": "stream",
     "text": [
      "================================================================================\n",
      "Name                     Architecture         #Param      %Param  Active   Train\n",
      "--------------------------------------------------------------------------------\n",
      "conllpp_lora_mlm         lora                147,456       0.180       0       1\n",
      "--------------------------------------------------------------------------------\n",
      "Full model                                82,118,400     100.000               1\n",
      "================================================================================\n"
     ]
    }
   ],
   "source": [
    "print(model.adapter_summary())"
   ]
  },
  {
   "cell_type": "code",
   "execution_count": 24,
   "id": "212e49f0-7061-4dbe-8f08-26969bc38623",
   "metadata": {},
   "outputs": [],
   "source": [
    "model.set_active_adapters([\"conllpp_lora_mlm\"])"
   ]
  },
  {
   "cell_type": "code",
   "execution_count": 25,
   "id": "f0191641-731a-4e58-8ff4-82732bec79c8",
   "metadata": {},
   "outputs": [],
   "source": [
    "model.train_adapter([\"conllpp_lora_mlm\"])"
   ]
  },
  {
   "cell_type": "code",
   "execution_count": 26,
   "id": "0a54dda8-8155-4f93-9e5f-da4b3b6ee1af",
   "metadata": {},
   "outputs": [
    {
     "name": "stdout",
     "output_type": "stream",
     "text": [
      "================================================================================\n",
      "Name                     Architecture         #Param      %Param  Active   Train\n",
      "--------------------------------------------------------------------------------\n",
      "conllpp_lora_mlm         lora                147,456       0.180       1       1\n",
      "--------------------------------------------------------------------------------\n",
      "Full model                                82,118,400     100.000               0\n",
      "================================================================================\n"
     ]
    }
   ],
   "source": [
    "print(model.adapter_summary())"
   ]
  },
  {
   "cell_type": "code",
   "execution_count": 27,
   "id": "kt3RyYs6Bq8o",
   "metadata": {
    "colab": {
     "base_uri": "https://localhost:8080/"
    },
    "id": "kt3RyYs6Bq8o",
    "outputId": "e710a683-69a4-43e8-86c7-f6df5ab24ac3"
   },
   "outputs": [],
   "source": [
    "data_collator = DataCollatorForLanguageModeling(\n",
    "    tokenizer=tokenizer, mlm_probability=0.15\n",
    ")"
   ]
  },
  {
   "cell_type": "code",
   "execution_count": 28,
   "id": "7bfb31d0-cab6-4410-a389-6670e966f59d",
   "metadata": {
    "colab": {
     "base_uri": "https://localhost:8080/"
    },
    "id": "7bfb31d0-cab6-4410-a389-6670e966f59d",
    "outputId": "1ff9fd7c-406d-461a-dac9-ef989f5268b1"
   },
   "outputs": [
    {
     "name": "stderr",
     "output_type": "stream",
     "text": [
      "\u001b[34m\u001b[1mwandb\u001b[0m: Currently logged in as: \u001b[33me_hossam96\u001b[0m. Use \u001b[1m`wandb login --relogin`\u001b[0m to force relogin\n",
      "\u001b[34m\u001b[1mwandb\u001b[0m: \u001b[33mWARNING\u001b[0m If you're specifying your api key in code, ensure this code is not shared publicly.\n",
      "\u001b[34m\u001b[1mwandb\u001b[0m: \u001b[33mWARNING\u001b[0m Consider setting the WANDB_API_KEY environment variable, or running `wandb login` from the command line.\n",
      "\u001b[34m\u001b[1mwandb\u001b[0m: Appending key for api.wandb.ai to your netrc file: C:\\Users\\ehhho\\.netrc\n"
     ]
    },
    {
     "data": {
      "text/plain": [
       "True"
      ]
     },
     "execution_count": 28,
     "metadata": {},
     "output_type": "execute_result"
    }
   ],
   "source": [
    "with open(access_tokens_path) as f:\n",
    "    login_key = json.load(f)[\"wandb\"][\"login\"]\n",
    "\n",
    "wandb.login(key=login_key)"
   ]
  },
  {
   "cell_type": "code",
   "execution_count": 29,
   "id": "4c3a6473-45ad-4dc1-83c8-12ef4bce50da",
   "metadata": {
    "colab": {
     "base_uri": "https://localhost:8080/",
     "height": 125
    },
    "id": "4c3a6473-45ad-4dc1-83c8-12ef4bce50da",
    "outputId": "d7987180-0ef7-49c6-82b4-a48e6f256fea"
   },
   "outputs": [
    {
     "data": {
      "application/vnd.jupyter.widget-view+json": {
       "model_id": "393bead064d34f57a51bafb191726c70",
       "version_major": 2,
       "version_minor": 0
      },
      "text/plain": [
       "VBox(children=(Label(value='Waiting for wandb.init()...\\r'), FloatProgress(value=0.011111111111111112, max=1.0…"
      ]
     },
     "metadata": {},
     "output_type": "display_data"
    },
    {
     "data": {
      "text/html": [
       "Tracking run with wandb version 0.16.2"
      ],
      "text/plain": [
       "<IPython.core.display.HTML object>"
      ]
     },
     "metadata": {},
     "output_type": "display_data"
    },
    {
     "data": {
      "text/html": [
       "Run data is saved locally in <code>D:\\Programming Projects\\PEFT Token Classification\\wandb\\run-20240118_222045-xlcvq95p</code>"
      ],
      "text/plain": [
       "<IPython.core.display.HTML object>"
      ]
     },
     "metadata": {},
     "output_type": "display_data"
    },
    {
     "data": {
      "text/html": [
       "Syncing run <strong><a href='https://wandb.ai/e_hossam96/PEFT-NER/runs/xlcvq95p' target=\"_blank\">distilroberta-base-finetuned-conllpp-mlm-adapters</a></strong> to <a href='https://wandb.ai/e_hossam96/PEFT-NER' target=\"_blank\">Weights & Biases</a> (<a href='https://wandb.me/run' target=\"_blank\">docs</a>)<br/>"
      ],
      "text/plain": [
       "<IPython.core.display.HTML object>"
      ]
     },
     "metadata": {},
     "output_type": "display_data"
    },
    {
     "data": {
      "text/html": [
       " View project at <a href='https://wandb.ai/e_hossam96/PEFT-NER' target=\"_blank\">https://wandb.ai/e_hossam96/PEFT-NER</a>"
      ],
      "text/plain": [
       "<IPython.core.display.HTML object>"
      ]
     },
     "metadata": {},
     "output_type": "display_data"
    },
    {
     "data": {
      "text/html": [
       " View run at <a href='https://wandb.ai/e_hossam96/PEFT-NER/runs/xlcvq95p' target=\"_blank\">https://wandb.ai/e_hossam96/PEFT-NER/runs/xlcvq95p</a>"
      ],
      "text/plain": [
       "<IPython.core.display.HTML object>"
      ]
     },
     "metadata": {},
     "output_type": "display_data"
    },
    {
     "data": {
      "text/html": [
       "<button onClick=\"this.nextSibling.style.display='block';this.style.display='none';\">Display W&B run</button><iframe src='https://wandb.ai/e_hossam96/PEFT-NER/runs/xlcvq95p?jupyter=true' style='border:none;width:100%;height:420px;display:none;'></iframe>"
      ],
      "text/plain": [
       "<wandb.sdk.wandb_run.Run at 0x17124c896d0>"
      ]
     },
     "execution_count": 29,
     "metadata": {},
     "output_type": "execute_result"
    }
   ],
   "source": [
    "wandb.init(project=project_name, name=model_name)"
   ]
  },
  {
   "cell_type": "code",
   "execution_count": 30,
   "id": "2aa65c4d-652c-4c94-bf92-1b976327a0de",
   "metadata": {
    "id": "2aa65c4d-652c-4c94-bf92-1b976327a0de"
   },
   "outputs": [],
   "source": [
    "args = TrainingArguments(\n",
    "    model_path,\n",
    "    overwrite_output_dir=True,\n",
    "    num_train_epochs=5,\n",
    "    load_best_model_at_end=True,\n",
    "    evaluation_strategy=\"epoch\",\n",
    "    save_strategy=\"epoch\",\n",
    "    report_to=\"wandb\",\n",
    "    seed=seed,\n",
    "    data_seed=seed,\n",
    "    per_device_train_batch_size=64,\n",
    "    per_device_eval_batch_size=64,\n",
    "    learning_rate=1e-4,\n",
    "    weight_decay=1e-3,\n",
    "    warmup_ratio=0.05,\n",
    ")"
   ]
  },
  {
   "cell_type": "code",
   "execution_count": 31,
   "id": "07e2e230-8b2f-4f17-b302-eaf612772d7b",
   "metadata": {
    "id": "07e2e230-8b2f-4f17-b302-eaf612772d7b"
   },
   "outputs": [],
   "source": [
    "from adapters import AdapterTrainer\n",
    "\n",
    "trainer = AdapterTrainer(\n",
    "    model=model,\n",
    "    args=args,\n",
    "    train_dataset=tokenized_datasets[\"train\"],\n",
    "    eval_dataset=tokenized_datasets[\"validation\"],\n",
    "    data_collator=data_collator,\n",
    "    tokenizer=tokenizer,\n",
    ")"
   ]
  },
  {
   "cell_type": "code",
   "execution_count": 32,
   "id": "a5918703-b0a1-4a91-8445-54fa4ceeb57c",
   "metadata": {
    "colab": {
     "base_uri": "https://localhost:8080/",
     "height": 196
    },
    "id": "a5918703-b0a1-4a91-8445-54fa4ceeb57c",
    "outputId": "cfaf5000-4a3b-484b-b69c-c4ed77747128"
   },
   "outputs": [
    {
     "name": "stderr",
     "output_type": "stream",
     "text": [
      "You're using a RobertaTokenizerFast tokenizer. Please note that with a fast tokenizer, using the `__call__` method is faster than using a method to encode the text followed by a call to the `pad` method to get a padded encoding.\n"
     ]
    },
    {
     "data": {
      "text/html": [
       "\n",
       "    <div>\n",
       "      \n",
       "      <progress value='1100' max='1100' style='width:300px; height:20px; vertical-align: middle;'></progress>\n",
       "      [1100/1100 45:59, Epoch 5/5]\n",
       "    </div>\n",
       "    <table border=\"1\" class=\"dataframe\">\n",
       "  <thead>\n",
       " <tr style=\"text-align: left;\">\n",
       "      <th>Epoch</th>\n",
       "      <th>Training Loss</th>\n",
       "      <th>Validation Loss</th>\n",
       "    </tr>\n",
       "  </thead>\n",
       "  <tbody>\n",
       "    <tr>\n",
       "      <td>1</td>\n",
       "      <td>No log</td>\n",
       "      <td>4.935576</td>\n",
       "    </tr>\n",
       "    <tr>\n",
       "      <td>2</td>\n",
       "      <td>No log</td>\n",
       "      <td>4.034911</td>\n",
       "    </tr>\n",
       "    <tr>\n",
       "      <td>3</td>\n",
       "      <td>6.289700</td>\n",
       "      <td>3.641251</td>\n",
       "    </tr>\n",
       "    <tr>\n",
       "      <td>4</td>\n",
       "      <td>6.289700</td>\n",
       "      <td>3.583717</td>\n",
       "    </tr>\n",
       "    <tr>\n",
       "      <td>5</td>\n",
       "      <td>3.918800</td>\n",
       "      <td>3.531677</td>\n",
       "    </tr>\n",
       "  </tbody>\n",
       "</table><p>"
      ],
      "text/plain": [
       "<IPython.core.display.HTML object>"
      ]
     },
     "metadata": {},
     "output_type": "display_data"
    },
    {
     "name": "stderr",
     "output_type": "stream",
     "text": [
      "Overwriting existing adapter 'conllpp_lora_mlm'.\n"
     ]
    },
    {
     "data": {
      "text/plain": [
       "TrainOutput(global_step=1100, training_loss=4.983563315651634, metrics={'train_runtime': 2760.7222, 'train_samples_per_second': 25.43, 'train_steps_per_second': 0.398, 'total_flos': 1087791338930472.0, 'train_loss': 4.983563315651634, 'epoch': 5.0})"
      ]
     },
     "execution_count": 32,
     "metadata": {},
     "output_type": "execute_result"
    }
   ],
   "source": [
    "trainer.train()"
   ]
  },
  {
   "cell_type": "code",
   "execution_count": 33,
   "id": "3045e94e-1ae0-4bf1-8a2c-df14c3bad7e2",
   "metadata": {
    "colab": {
     "base_uri": "https://localhost:8080/",
     "height": 193
    },
    "id": "3045e94e-1ae0-4bf1-8a2c-df14c3bad7e2",
    "outputId": "7e37ee18-1bd4-474b-d0ea-dfdba902296c"
   },
   "outputs": [
    {
     "data": {
      "text/html": [
       "\n",
       "    <div>\n",
       "      \n",
       "      <progress value='54' max='54' style='width:300px; height:20px; vertical-align: middle;'></progress>\n",
       "      [54/54 00:28]\n",
       "    </div>\n",
       "    "
      ],
      "text/plain": [
       "<IPython.core.display.HTML object>"
      ]
     },
     "metadata": {},
     "output_type": "display_data"
    },
    {
     "data": {
      "text/plain": [
       "{'test_loss': 3.8876593112945557,\n",
       " 'test_runtime': 28.9795,\n",
       " 'test_samples_per_second': 119.153,\n",
       " 'test_steps_per_second': 1.863,\n",
       " 'epoch': 5.0}"
      ]
     },
     "execution_count": 33,
     "metadata": {},
     "output_type": "execute_result"
    }
   ],
   "source": [
    "trainer.evaluate(tokenized_datasets[\"test\"], metric_key_prefix=\"test\")"
   ]
  },
  {
   "cell_type": "code",
   "execution_count": 34,
   "id": "b5a0f9ac-9b57-4df9-b7f4-25d0b4741933",
   "metadata": {
    "id": "b5a0f9ac-9b57-4df9-b7f4-25d0b4741933"
   },
   "outputs": [],
   "source": [
    "trainer.save_model(model_path)"
   ]
  },
  {
   "cell_type": "code",
   "execution_count": 35,
   "id": "5a5d7131-a416-468f-a13d-e290be328502",
   "metadata": {
    "colab": {
     "base_uri": "https://localhost:8080/",
     "height": 690,
     "referenced_widgets": [
      "00751c32ce284a7ebe750ad822ce6710",
      "73677e353db24d0696e3e7eb6800b053",
      "53242fdf56934c77918043980073e9fa",
      "ceadfbe5e3fd4e5fae37e7c827348da5",
      "e372c47ea20b42c39c1f13a82d037bf7",
      "e69252d6af01467f9c7e0158e9faf23b",
      "ab0331ac8ba44ba499ec134099f0ca40",
      "f363f0e5985b4374b7987410d1ab6819"
     ]
    },
    "id": "5a5d7131-a416-468f-a13d-e290be328502",
    "outputId": "ab259d7d-462b-4827-f012-99dbfe795e79"
   },
   "outputs": [
    {
     "data": {
      "application/vnd.jupyter.widget-view+json": {
       "model_id": "",
       "version_major": 2,
       "version_minor": 0
      },
      "text/plain": [
       "VBox(children=(Label(value='0.030 MB of 0.044 MB uploaded (0.003 MB deduped)\\r'), FloatProgress(value=0.675803…"
      ]
     },
     "metadata": {},
     "output_type": "display_data"
    },
    {
     "data": {
      "text/html": [
       "W&B sync reduced upload amount by 7.2%             "
      ],
      "text/plain": [
       "<IPython.core.display.HTML object>"
      ]
     },
     "metadata": {},
     "output_type": "display_data"
    },
    {
     "data": {
      "text/html": [
       "<style>\n",
       "    table.wandb td:nth-child(1) { padding: 0 10px; text-align: left ; width: auto;} td:nth-child(2) {text-align: left ; width: 100%}\n",
       "    .wandb-row { display: flex; flex-direction: row; flex-wrap: wrap; justify-content: flex-start; width: 100% }\n",
       "    .wandb-col { display: flex; flex-direction: column; flex-basis: 100%; flex: 1; padding: 10px; }\n",
       "    </style>\n",
       "<div class=\"wandb-row\"><div class=\"wandb-col\"><h3>Run history:</h3><br/><table class=\"wandb\"><tr><td>eval/loss</td><td>█▄▂▁▁</td></tr><tr><td>eval/runtime</td><td>▁▃██▁</td></tr><tr><td>eval/samples_per_second</td><td>█▆▁▁█</td></tr><tr><td>eval/steps_per_second</td><td>█▆▁▁█</td></tr><tr><td>test/loss</td><td>▁</td></tr><tr><td>test/runtime</td><td>▁</td></tr><tr><td>test/samples_per_second</td><td>▁</td></tr><tr><td>test/steps_per_second</td><td>▁</td></tr><tr><td>train/epoch</td><td>▁▃▃▅▆▇███</td></tr><tr><td>train/global_step</td><td>▁▃▃▄▆▇███</td></tr><tr><td>train/learning_rate</td><td>█▁</td></tr><tr><td>train/loss</td><td>█▁</td></tr><tr><td>train/total_flos</td><td>▁</td></tr><tr><td>train/train_loss</td><td>▁</td></tr><tr><td>train/train_runtime</td><td>▁</td></tr><tr><td>train/train_samples_per_second</td><td>▁</td></tr><tr><td>train/train_steps_per_second</td><td>▁</td></tr></table><br/></div><div class=\"wandb-col\"><h3>Run summary:</h3><br/><table class=\"wandb\"><tr><td>eval/loss</td><td>3.53168</td></tr><tr><td>eval/runtime</td><td>36.2671</td></tr><tr><td>eval/samples_per_second</td><td>89.613</td></tr><tr><td>eval/steps_per_second</td><td>1.406</td></tr><tr><td>test/loss</td><td>3.88766</td></tr><tr><td>test/runtime</td><td>28.9795</td></tr><tr><td>test/samples_per_second</td><td>119.153</td></tr><tr><td>test/steps_per_second</td><td>1.863</td></tr><tr><td>train/epoch</td><td>5.0</td></tr><tr><td>train/global_step</td><td>1100</td></tr><tr><td>train/learning_rate</td><td>1e-05</td></tr><tr><td>train/loss</td><td>3.9188</td></tr><tr><td>train/total_flos</td><td>1087791338930472.0</td></tr><tr><td>train/train_loss</td><td>4.98356</td></tr><tr><td>train/train_runtime</td><td>2760.7222</td></tr><tr><td>train/train_samples_per_second</td><td>25.43</td></tr><tr><td>train/train_steps_per_second</td><td>0.398</td></tr></table><br/></div></div>"
      ],
      "text/plain": [
       "<IPython.core.display.HTML object>"
      ]
     },
     "metadata": {},
     "output_type": "display_data"
    },
    {
     "data": {
      "text/html": [
       " View run <strong style=\"color:#cdcd00\">distilroberta-base-finetuned-conllpp-mlm-adapters</strong> at: <a href='https://wandb.ai/e_hossam96/PEFT-NER/runs/xlcvq95p' target=\"_blank\">https://wandb.ai/e_hossam96/PEFT-NER/runs/xlcvq95p</a><br/> View job at <a href='https://wandb.ai/e_hossam96/PEFT-NER/jobs/QXJ0aWZhY3RDb2xsZWN0aW9uOjEzMTMzOTE0Mw==/version_details/v1' target=\"_blank\">https://wandb.ai/e_hossam96/PEFT-NER/jobs/QXJ0aWZhY3RDb2xsZWN0aW9uOjEzMTMzOTE0Mw==/version_details/v1</a><br/>Synced 5 W&B file(s), 0 media file(s), 2 artifact file(s) and 0 other file(s)"
      ],
      "text/plain": [
       "<IPython.core.display.HTML object>"
      ]
     },
     "metadata": {},
     "output_type": "display_data"
    },
    {
     "data": {
      "text/html": [
       "Find logs at: <code>.\\wandb\\run-20240118_222045-xlcvq95p\\logs</code>"
      ],
      "text/plain": [
       "<IPython.core.display.HTML object>"
      ]
     },
     "metadata": {},
     "output_type": "display_data"
    }
   ],
   "source": [
    "wandb.finish()"
   ]
  },
  {
   "cell_type": "code",
   "execution_count": 36,
   "id": "1e87ee90-0649-4316-9ec8-5b21dc905c09",
   "metadata": {
    "id": "1e87ee90-0649-4316-9ec8-5b21dc905c09"
   },
   "outputs": [
    {
     "name": "stderr",
     "output_type": "stream",
     "text": [
      "Some weights of RobertaAdapterModel were not initialized from the model checkpoint at distilroberta-base and are newly initialized: ['heads.default.3.bias']\n",
      "You should probably TRAIN this model on a down-stream task to be able to use it for predictions and inference.\n"
     ]
    }
   ],
   "source": [
    "model = AutoAdapterModel.from_pretrained(model_ckpt)"
   ]
  },
  {
   "cell_type": "code",
   "execution_count": 37,
   "id": "uRxItJSAJh46",
   "metadata": {
    "colab": {
     "base_uri": "https://localhost:8080/",
     "height": 36
    },
    "id": "uRxItJSAJh46",
    "outputId": "63044656-21f4-4ede-d135-ba37de4436d8"
   },
   "outputs": [
    {
     "data": {
      "text/plain": [
       "'conllpp_lora_mlm'"
      ]
     },
     "execution_count": 37,
     "metadata": {},
     "output_type": "execute_result"
    }
   ],
   "source": [
    "model.load_adapter(model_path+\"/conllpp_lora_mlm\")"
   ]
  },
  {
   "cell_type": "code",
   "execution_count": 38,
   "id": "Vgr-hyOfJuTN",
   "metadata": {
    "colab": {
     "base_uri": "https://localhost:8080/"
    },
    "id": "Vgr-hyOfJuTN",
    "outputId": "8aab8e7d-c73e-4d03-9a8b-cc74f24bb281"
   },
   "outputs": [
    {
     "data": {
      "text/plain": [
       "('./models/distilroberta-base-finetuned-conllpp-mlm-adapters/conllpp_head_mlm',\n",
       " 'conllpp_head_mlm')"
      ]
     },
     "execution_count": 38,
     "metadata": {},
     "output_type": "execute_result"
    }
   ],
   "source": [
    "model.load_head(model_path+\"/conllpp_head_mlm\")"
   ]
  },
  {
   "cell_type": "code",
   "execution_count": 39,
   "id": "fb74ef17-6e3b-4ba5-a784-c0a32224394e",
   "metadata": {
    "id": "fb74ef17-6e3b-4ba5-a784-c0a32224394e"
   },
   "outputs": [],
   "source": [
    "tokenizer = AutoTokenizer.from_pretrained(model_path)"
   ]
  },
  {
   "cell_type": "code",
   "execution_count": 40,
   "id": "c872263f-7311-415b-8304-f429b345a33d",
   "metadata": {
    "colab": {
     "base_uri": "https://localhost:8080/"
    },
    "id": "c872263f-7311-415b-8304-f429b345a33d",
    "outputId": "a64ee1e2-2b9b-4fce-fe97-8906dd5ceb26"
   },
   "outputs": [
    {
     "name": "stdout",
     "output_type": "stream",
     "text": [
      "================================================================================\n",
      "Name                     Architecture         #Param      %Param  Active   Train\n",
      "--------------------------------------------------------------------------------\n",
      "conllpp_lora_mlm         lora                147,456       0.180       0       1\n",
      "--------------------------------------------------------------------------------\n",
      "Full model                                82,118,400     100.000               1\n",
      "================================================================================\n"
     ]
    }
   ],
   "source": [
    "print(model.adapter_summary())"
   ]
  },
  {
   "cell_type": "code",
   "execution_count": 41,
   "id": "IZZ0F0o7KJXA",
   "metadata": {
    "id": "IZZ0F0o7KJXA"
   },
   "outputs": [],
   "source": [
    "model.set_active_adapters([\"conllpp_lora_mlm\"])"
   ]
  },
  {
   "cell_type": "code",
   "execution_count": 42,
   "id": "miim_iyFKRXs",
   "metadata": {
    "colab": {
     "base_uri": "https://localhost:8080/"
    },
    "id": "miim_iyFKRXs",
    "outputId": "753e756c-7251-410b-90e4-b56904a507fc"
   },
   "outputs": [
    {
     "name": "stdout",
     "output_type": "stream",
     "text": [
      "================================================================================\n",
      "Name                     Architecture         #Param      %Param  Active   Train\n",
      "--------------------------------------------------------------------------------\n",
      "conllpp_lora_mlm         lora                147,456       0.180       1       1\n",
      "--------------------------------------------------------------------------------\n",
      "Full model                                82,118,400     100.000               1\n",
      "================================================================================\n"
     ]
    }
   ],
   "source": [
    "print(model.adapter_summary())"
   ]
  },
  {
   "cell_type": "code",
   "execution_count": 43,
   "id": "993fd9b2-f9bb-4ea8-ac8c-fac43283086c",
   "metadata": {
    "colab": {
     "base_uri": "https://localhost:8080/"
    },
    "id": "993fd9b2-f9bb-4ea8-ac8c-fac43283086c",
    "outputId": "05b82593-5c99-4b5a-fac9-2c5aa7162448"
   },
   "outputs": [],
   "source": [
    "ner = pipeline(\"fill-mask\", model=model, tokenizer=tokenizer)"
   ]
  },
  {
   "cell_type": "code",
   "execution_count": 44,
   "id": "d7c20f31-2073-4e0f-ad9c-1885c077081c",
   "metadata": {
    "colab": {
     "base_uri": "https://localhost:8080/"
    },
    "id": "d7c20f31-2073-4e0f-ad9c-1885c077081c",
    "outputId": "42cc0cb8-98b3-47e1-8489-7c2f625a5aca"
   },
   "outputs": [
    {
     "data": {
      "text/plain": [
       "[{'score': 0.9482322931289673,\n",
       "  'token': 479,\n",
       "  'token_str': '.',\n",
       "  'sequence': 'I love Egypt.'},\n",
       " {'score': 0.010403621941804886,\n",
       "  'token': 1666,\n",
       "  'token_str': '...',\n",
       "  'sequence': 'I love Egypt...'},\n",
       " {'score': 0.00968374963849783,\n",
       "  'token': 4832,\n",
       "  'token_str': ' :',\n",
       "  'sequence': 'I love Egypt :'},\n",
       " {'score': 0.008040284737944603,\n",
       "  'token': 22,\n",
       "  'token_str': ' \"',\n",
       "  'sequence': 'I love Egypt \"'},\n",
       " {'score': 0.004114451352506876,\n",
       "  'token': 2156,\n",
       "  'token_str': ',',\n",
       "  'sequence': 'I love Egypt,'}]"
      ]
     },
     "execution_count": 44,
     "metadata": {},
     "output_type": "execute_result"
    }
   ],
   "source": [
    "ner(\"I love Egypt<mask>\")"
   ]
  }
 ],
 "metadata": {
  "accelerator": "GPU",
  "colab": {
   "gpuType": "T4",
   "provenance": []
  },
  "kernelspec": {
   "display_name": "Python 3 (ipykernel)",
   "language": "python",
   "name": "python3"
  },
  "language_info": {
   "codemirror_mode": {
    "name": "ipython",
    "version": 3
   },
   "file_extension": ".py",
   "mimetype": "text/x-python",
   "name": "python",
   "nbconvert_exporter": "python",
   "pygments_lexer": "ipython3",
   "version": "3.8.18"
  },
  "widgets": {
   "application/vnd.jupyter.widget-state+json": {
    "00751c32ce284a7ebe750ad822ce6710": {
     "model_module": "@jupyter-widgets/controls",
     "model_module_version": "1.5.0",
     "model_name": "VBoxModel",
     "state": {
      "_dom_classes": [],
      "_model_module": "@jupyter-widgets/controls",
      "_model_module_version": "1.5.0",
      "_model_name": "VBoxModel",
      "_view_count": null,
      "_view_module": "@jupyter-widgets/controls",
      "_view_module_version": "1.5.0",
      "_view_name": "VBoxView",
      "box_style": "",
      "children": [
       "IPY_MODEL_73677e353db24d0696e3e7eb6800b053",
       "IPY_MODEL_53242fdf56934c77918043980073e9fa"
      ],
      "layout": "IPY_MODEL_ceadfbe5e3fd4e5fae37e7c827348da5"
     }
    },
    "53242fdf56934c77918043980073e9fa": {
     "model_module": "@jupyter-widgets/controls",
     "model_module_version": "1.5.0",
     "model_name": "FloatProgressModel",
     "state": {
      "_dom_classes": [],
      "_model_module": "@jupyter-widgets/controls",
      "_model_module_version": "1.5.0",
      "_model_name": "FloatProgressModel",
      "_view_count": null,
      "_view_module": "@jupyter-widgets/controls",
      "_view_module_version": "1.5.0",
      "_view_name": "ProgressView",
      "bar_style": "",
      "description": "",
      "description_tooltip": null,
      "layout": "IPY_MODEL_ab0331ac8ba44ba499ec134099f0ca40",
      "max": 1,
      "min": 0,
      "orientation": "horizontal",
      "style": "IPY_MODEL_f363f0e5985b4374b7987410d1ab6819",
      "value": 1
     }
    },
    "73677e353db24d0696e3e7eb6800b053": {
     "model_module": "@jupyter-widgets/controls",
     "model_module_version": "1.5.0",
     "model_name": "LabelModel",
     "state": {
      "_dom_classes": [],
      "_model_module": "@jupyter-widgets/controls",
      "_model_module_version": "1.5.0",
      "_model_name": "LabelModel",
      "_view_count": null,
      "_view_module": "@jupyter-widgets/controls",
      "_view_module_version": "1.5.0",
      "_view_name": "LabelView",
      "description": "",
      "description_tooltip": null,
      "layout": "IPY_MODEL_e372c47ea20b42c39c1f13a82d037bf7",
      "placeholder": "​",
      "style": "IPY_MODEL_e69252d6af01467f9c7e0158e9faf23b",
      "value": "0.023 MB of 0.023 MB uploaded\r"
     }
    },
    "ab0331ac8ba44ba499ec134099f0ca40": {
     "model_module": "@jupyter-widgets/base",
     "model_module_version": "1.2.0",
     "model_name": "LayoutModel",
     "state": {
      "_model_module": "@jupyter-widgets/base",
      "_model_module_version": "1.2.0",
      "_model_name": "LayoutModel",
      "_view_count": null,
      "_view_module": "@jupyter-widgets/base",
      "_view_module_version": "1.2.0",
      "_view_name": "LayoutView",
      "align_content": null,
      "align_items": null,
      "align_self": null,
      "border": null,
      "bottom": null,
      "display": null,
      "flex": null,
      "flex_flow": null,
      "grid_area": null,
      "grid_auto_columns": null,
      "grid_auto_flow": null,
      "grid_auto_rows": null,
      "grid_column": null,
      "grid_gap": null,
      "grid_row": null,
      "grid_template_areas": null,
      "grid_template_columns": null,
      "grid_template_rows": null,
      "height": null,
      "justify_content": null,
      "justify_items": null,
      "left": null,
      "margin": null,
      "max_height": null,
      "max_width": null,
      "min_height": null,
      "min_width": null,
      "object_fit": null,
      "object_position": null,
      "order": null,
      "overflow": null,
      "overflow_x": null,
      "overflow_y": null,
      "padding": null,
      "right": null,
      "top": null,
      "visibility": null,
      "width": null
     }
    },
    "ceadfbe5e3fd4e5fae37e7c827348da5": {
     "model_module": "@jupyter-widgets/base",
     "model_module_version": "1.2.0",
     "model_name": "LayoutModel",
     "state": {
      "_model_module": "@jupyter-widgets/base",
      "_model_module_version": "1.2.0",
      "_model_name": "LayoutModel",
      "_view_count": null,
      "_view_module": "@jupyter-widgets/base",
      "_view_module_version": "1.2.0",
      "_view_name": "LayoutView",
      "align_content": null,
      "align_items": null,
      "align_self": null,
      "border": null,
      "bottom": null,
      "display": null,
      "flex": null,
      "flex_flow": null,
      "grid_area": null,
      "grid_auto_columns": null,
      "grid_auto_flow": null,
      "grid_auto_rows": null,
      "grid_column": null,
      "grid_gap": null,
      "grid_row": null,
      "grid_template_areas": null,
      "grid_template_columns": null,
      "grid_template_rows": null,
      "height": null,
      "justify_content": null,
      "justify_items": null,
      "left": null,
      "margin": null,
      "max_height": null,
      "max_width": null,
      "min_height": null,
      "min_width": null,
      "object_fit": null,
      "object_position": null,
      "order": null,
      "overflow": null,
      "overflow_x": null,
      "overflow_y": null,
      "padding": null,
      "right": null,
      "top": null,
      "visibility": null,
      "width": null
     }
    },
    "e372c47ea20b42c39c1f13a82d037bf7": {
     "model_module": "@jupyter-widgets/base",
     "model_module_version": "1.2.0",
     "model_name": "LayoutModel",
     "state": {
      "_model_module": "@jupyter-widgets/base",
      "_model_module_version": "1.2.0",
      "_model_name": "LayoutModel",
      "_view_count": null,
      "_view_module": "@jupyter-widgets/base",
      "_view_module_version": "1.2.0",
      "_view_name": "LayoutView",
      "align_content": null,
      "align_items": null,
      "align_self": null,
      "border": null,
      "bottom": null,
      "display": null,
      "flex": null,
      "flex_flow": null,
      "grid_area": null,
      "grid_auto_columns": null,
      "grid_auto_flow": null,
      "grid_auto_rows": null,
      "grid_column": null,
      "grid_gap": null,
      "grid_row": null,
      "grid_template_areas": null,
      "grid_template_columns": null,
      "grid_template_rows": null,
      "height": null,
      "justify_content": null,
      "justify_items": null,
      "left": null,
      "margin": null,
      "max_height": null,
      "max_width": null,
      "min_height": null,
      "min_width": null,
      "object_fit": null,
      "object_position": null,
      "order": null,
      "overflow": null,
      "overflow_x": null,
      "overflow_y": null,
      "padding": null,
      "right": null,
      "top": null,
      "visibility": null,
      "width": null
     }
    },
    "e69252d6af01467f9c7e0158e9faf23b": {
     "model_module": "@jupyter-widgets/controls",
     "model_module_version": "1.5.0",
     "model_name": "DescriptionStyleModel",
     "state": {
      "_model_module": "@jupyter-widgets/controls",
      "_model_module_version": "1.5.0",
      "_model_name": "DescriptionStyleModel",
      "_view_count": null,
      "_view_module": "@jupyter-widgets/base",
      "_view_module_version": "1.2.0",
      "_view_name": "StyleView",
      "description_width": ""
     }
    },
    "f363f0e5985b4374b7987410d1ab6819": {
     "model_module": "@jupyter-widgets/controls",
     "model_module_version": "1.5.0",
     "model_name": "ProgressStyleModel",
     "state": {
      "_model_module": "@jupyter-widgets/controls",
      "_model_module_version": "1.5.0",
      "_model_name": "ProgressStyleModel",
      "_view_count": null,
      "_view_module": "@jupyter-widgets/base",
      "_view_module_version": "1.2.0",
      "_view_name": "StyleView",
      "bar_color": null,
      "description_width": ""
     }
    }
   }
  }
 },
 "nbformat": 4,
 "nbformat_minor": 5
}
